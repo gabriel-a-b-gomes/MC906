{
 "cells": [
  {
   "cell_type": "code",
   "execution_count": 83,
   "metadata": {},
   "outputs": [],
   "source": [
    "import pandas as pd\n",
    "import requests\n",
    "from functools import reduce\n",
    "from itables import show"
   ]
  },
  {
   "cell_type": "code",
   "execution_count": 84,
   "metadata": {},
   "outputs": [],
   "source": [
    "# Constants\n",
    "RAW_DATA_DIR = '../data/raw'\n",
    "INTERIM_DATA_DIR = '../data/interim'\n",
    "PROCESSED_DATA_DIR = '../data/processed'\n",
    "\n",
    "PRIMARY_KEY = 'CO_MUNICIPIO'"
   ]
  },
  {
   "cell_type": "markdown",
   "metadata": {},
   "source": [
    "# Dados IBGE"
   ]
  },
  {
   "cell_type": "markdown",
   "metadata": {},
   "source": [
    "Faz uso da [API de dados agregados do IBGE](https://servicodados.ibge.gov.br/api/docs/agregados?versao=3#api-Variaveis-agregadosAgregadoPeriodosPeriodosVariaveisVariavelGet) para obter a informação do Produto Interno Bruto corrente a preços de mercado (PIB a preços correntes) por município."
   ]
  },
  {
   "cell_type": "code",
   "execution_count": 85,
   "metadata": {},
   "outputs": [],
   "source": [
    "DROP_IBGE_COLUMNS = ['localidade.nivel.id', 'localidade.nivel.nome', \"localidade.nome\"]\n",
    "\n",
    "def _ibge_json_to_ibge_df(json_data):\n",
    "    # Extracts the county PIB (Produto Interno Bruto) data from the given JSON data\n",
    "    target_info_json = json_data[0][\"resultados\"][0][\"series\"]\n",
    "    pibge_df = pd.json_normalize(target_info_json)\n",
    "    pibge_df = pibge_df.drop(DROP_IBGE_COLUMNS, axis=1)\n",
    "    return pibge_df"
   ]
  },
  {
   "cell_type": "code",
   "execution_count": 86,
   "metadata": {},
   "outputs": [
    {
     "name": "stdout",
     "output_type": "stream",
     "text": [
      "Getting data for year 2013\n"
     ]
    },
    {
     "name": "stderr",
     "output_type": "stream",
     "text": [
      "/home/cristiano/Downloads/IA/code/MC906/.venv/lib/python3.10/site-packages/urllib3/connectionpool.py:1103: InsecureRequestWarning: Unverified HTTPS request is being made to host 'servicodados.ibge.gov.br'. Adding certificate verification is strongly advised. See: https://urllib3.readthedocs.io/en/latest/advanced-usage.html#tls-warnings\n",
      "  warnings.warn(\n"
     ]
    },
    {
     "name": "stdout",
     "output_type": "stream",
     "text": [
      "Building IBGE 2013 dataframe...\n",
      "Getting data for year 2014\n"
     ]
    },
    {
     "name": "stderr",
     "output_type": "stream",
     "text": [
      "/home/cristiano/Downloads/IA/code/MC906/.venv/lib/python3.10/site-packages/urllib3/connectionpool.py:1103: InsecureRequestWarning: Unverified HTTPS request is being made to host 'servicodados.ibge.gov.br'. Adding certificate verification is strongly advised. See: https://urllib3.readthedocs.io/en/latest/advanced-usage.html#tls-warnings\n",
      "  warnings.warn(\n"
     ]
    },
    {
     "name": "stdout",
     "output_type": "stream",
     "text": [
      "Building IBGE 2014 dataframe...\n",
      "Getting data for year 2015\n"
     ]
    },
    {
     "name": "stderr",
     "output_type": "stream",
     "text": [
      "/home/cristiano/Downloads/IA/code/MC906/.venv/lib/python3.10/site-packages/urllib3/connectionpool.py:1103: InsecureRequestWarning: Unverified HTTPS request is being made to host 'servicodados.ibge.gov.br'. Adding certificate verification is strongly advised. See: https://urllib3.readthedocs.io/en/latest/advanced-usage.html#tls-warnings\n",
      "  warnings.warn(\n"
     ]
    },
    {
     "name": "stdout",
     "output_type": "stream",
     "text": [
      "Building IBGE 2015 dataframe...\n",
      "Getting data for year 2016\n"
     ]
    },
    {
     "name": "stderr",
     "output_type": "stream",
     "text": [
      "/home/cristiano/Downloads/IA/code/MC906/.venv/lib/python3.10/site-packages/urllib3/connectionpool.py:1103: InsecureRequestWarning: Unverified HTTPS request is being made to host 'servicodados.ibge.gov.br'. Adding certificate verification is strongly advised. See: https://urllib3.readthedocs.io/en/latest/advanced-usage.html#tls-warnings\n",
      "  warnings.warn(\n"
     ]
    },
    {
     "name": "stdout",
     "output_type": "stream",
     "text": [
      "Building IBGE 2016 dataframe...\n",
      "Getting data for year 2017\n"
     ]
    },
    {
     "name": "stderr",
     "output_type": "stream",
     "text": [
      "/home/cristiano/Downloads/IA/code/MC906/.venv/lib/python3.10/site-packages/urllib3/connectionpool.py:1103: InsecureRequestWarning: Unverified HTTPS request is being made to host 'servicodados.ibge.gov.br'. Adding certificate verification is strongly advised. See: https://urllib3.readthedocs.io/en/latest/advanced-usage.html#tls-warnings\n",
      "  warnings.warn(\n"
     ]
    },
    {
     "name": "stdout",
     "output_type": "stream",
     "text": [
      "Building IBGE 2017 dataframe...\n",
      "Getting data for year 2018\n"
     ]
    },
    {
     "name": "stderr",
     "output_type": "stream",
     "text": [
      "/home/cristiano/Downloads/IA/code/MC906/.venv/lib/python3.10/site-packages/urllib3/connectionpool.py:1103: InsecureRequestWarning: Unverified HTTPS request is being made to host 'servicodados.ibge.gov.br'. Adding certificate verification is strongly advised. See: https://urllib3.readthedocs.io/en/latest/advanced-usage.html#tls-warnings\n",
      "  warnings.warn(\n"
     ]
    },
    {
     "name": "stdout",
     "output_type": "stream",
     "text": [
      "Building IBGE 2018 dataframe...\n",
      "Getting data for year 2019\n"
     ]
    },
    {
     "name": "stderr",
     "output_type": "stream",
     "text": [
      "/home/cristiano/Downloads/IA/code/MC906/.venv/lib/python3.10/site-packages/urllib3/connectionpool.py:1103: InsecureRequestWarning: Unverified HTTPS request is being made to host 'servicodados.ibge.gov.br'. Adding certificate verification is strongly advised. See: https://urllib3.readthedocs.io/en/latest/advanced-usage.html#tls-warnings\n",
      "  warnings.warn(\n"
     ]
    },
    {
     "name": "stdout",
     "output_type": "stream",
     "text": [
      "Building IBGE 2019 dataframe...\n",
      "Getting data for year 2020\n"
     ]
    },
    {
     "name": "stderr",
     "output_type": "stream",
     "text": [
      "/home/cristiano/Downloads/IA/code/MC906/.venv/lib/python3.10/site-packages/urllib3/connectionpool.py:1103: InsecureRequestWarning: Unverified HTTPS request is being made to host 'servicodados.ibge.gov.br'. Adding certificate verification is strongly advised. See: https://urllib3.readthedocs.io/en/latest/advanced-usage.html#tls-warnings\n",
      "  warnings.warn(\n"
     ]
    },
    {
     "name": "stdout",
     "output_type": "stream",
     "text": [
      "Building IBGE 2020 dataframe...\n",
      "Getting data for year 2021\n"
     ]
    },
    {
     "name": "stderr",
     "output_type": "stream",
     "text": [
      "/home/cristiano/Downloads/IA/code/MC906/.venv/lib/python3.10/site-packages/urllib3/connectionpool.py:1103: InsecureRequestWarning: Unverified HTTPS request is being made to host 'servicodados.ibge.gov.br'. Adding certificate verification is strongly advised. See: https://urllib3.readthedocs.io/en/latest/advanced-usage.html#tls-warnings\n",
      "  warnings.warn(\n"
     ]
    },
    {
     "name": "stdout",
     "output_type": "stream",
     "text": [
      "Building IBGE 2021 dataframe...\n",
      "Merging IBGE dataframes...\n",
      "Finished building the table with county PIB\n"
     ]
    }
   ],
   "source": [
    "# Build the table with county PIB\n",
    "\n",
    "years = list(range(2013, 2022))\n",
    "counties_pib_dfs = []\n",
    "\n",
    "for year in years:\n",
    "    print(f\"Getting data for year {year}\")\n",
    "    county_pib_url = f\"https://servicodados.ibge.gov.br/api/v3/agregados/5938/periodos/{year}/variaveis/37?localidades=N6[all]\"\n",
    "    response = requests.get(county_pib_url, verify=False)\n",
    "\n",
    "    if response.status_code == 200:\n",
    "        data = response.json()\n",
    "        print(f\"Building IBGE {year} dataframe...\")\n",
    "        counties_pib_dfs.append(_ibge_json_to_ibge_df(data))\n",
    "    else:\n",
    "        print(\"Request failed with status code:\", response.status_code)\n",
    "\n",
    "print(\"Merging IBGE dataframes...\")\n",
    "complete_counties_pib = reduce(lambda df1,df2: pd.merge(df1,df2,on='localidade.id', how='outer'), counties_pib_dfs)\n",
    "\n",
    "# Rename Columns\n",
    "new_column_names = {'serie.{}'.format(year): 'PIB_{}'.format(year) for year in years}\n",
    "new_column_names[\"localidade.id\"] = PRIMARY_KEY\n",
    "complete_counties_pib = complete_counties_pib.rename(columns=new_column_names)\n",
    "\n",
    "# Cast columns to int\n",
    "complete_counties_pib = complete_counties_pib.astype(int)\n",
    "\n",
    "print(\"Finished building the table with county PIB\")"
   ]
  },
  {
   "cell_type": "code",
   "execution_count": 94,
   "metadata": {},
   "outputs": [
    {
     "name": "stdout",
     "output_type": "stream",
     "text": [
      "<class 'pandas.core.frame.DataFrame'>\n",
      "RangeIndex: 5570 entries, 0 to 5569\n",
      "Data columns (total 10 columns):\n",
      " #   Column        Non-Null Count  Dtype\n",
      "---  ------        --------------  -----\n",
      " 0   CO_MUNICIPIO  5570 non-null   int64\n",
      " 1   PIB_2013      5570 non-null   int64\n",
      " 2   PIB_2014      5570 non-null   int64\n",
      " 3   PIB_2015      5570 non-null   int64\n",
      " 4   PIB_2016      5570 non-null   int64\n",
      " 5   PIB_2017      5570 non-null   int64\n",
      " 6   PIB_2018      5570 non-null   int64\n",
      " 7   PIB_2019      5570 non-null   int64\n",
      " 8   PIB_2020      5570 non-null   int64\n",
      " 9   PIB_2021      5570 non-null   int64\n",
      "dtypes: int64(10)\n",
      "memory usage: 435.3 KB\n"
     ]
    }
   ],
   "source": [
    "# Save data\n",
    "complete_counties_pib.info()\n",
    "complete_counties_pib.to_csv(F'{INTERIM_DATA_DIR}/ibge_pib_data.csv', sep=';', index=False)"
   ]
  },
  {
   "cell_type": "markdown",
   "metadata": {},
   "source": [
    "# Dados Bolsa Família"
   ]
  },
  {
   "cell_type": "markdown",
   "metadata": {},
   "source": [
    "Não conseguimos dados socioeconômicos com a granularidade, espacial e temporal, necessária. Assim, buscamos usar o percentual da população que recebe benefícios do programa Bolsa Família por município para ter algum dado de cunho social. O número de benefícios do programa Bolsa Família pode ser encontrado no [VIS DATA 3 beta](https://aplicacoes.cidadania.gov.br/vis/data3/v.php?q[]=r6JtZJCug7BtxKW25rV%2FfmdhhJFkl21kmK19ZnB1ZW6maX7KmZO20qfOnJm%2B6IianbSon7SfrrqqkpKcmcuppsK2iKextVi1mpyuwZxNzsmY2F1zyuDAk522pHa2YH9%2BaV6EkmOXbWSEm8GcobZVetufrL%2BrkbbHlNddmMnuslSqvaGmmZ67sliqkseU1rCYmOGuoK%2BtcHXfmrnBnGiS1KjXYK5%2B3q6noWisot6nbY6kksrAlNiscZqif2Rue2JqrGZ9f15Ny8mY2F1zv%2BGspbCslKDapm2zo6C8gaHfqZ994LuYXcVwoNqlwLNyk7jNps94bsPcuaehg3Ct7qZwyViQuNSYirSbwultdKmtqJnap7yKdFSJkWWbamSNqH1lY2ipot6nbY6Zk7bXn4qin9DgbaKxtKFa3qexb7RovcKf3aJuw9y5p6GDcKDapcCzcmjK1qCNuFTA3MCZXL%2Bdn%2BdZjbucoLbCodl7cIStfWZvdWVtpml%2BdVehv8ahin2Vw9rDoFytoa3eWbvDo5l3xqHOXrCY4a6gr61woNqlwLNyaL3Cn92ibpjuwqFfw1ad2qyybq6VvM9TqqqY0NquoquEcmGraX9%2FZF6HjmObZFPR47KiXHCYm%2ByebcWfksWBc8yjks7vsZOiqaJ4qVnBtpybd9Oi36uXhbuvmpu%2BoXSzp8K7nJ%2FAxGKqn5m87MGYm66Wp6Vrdm6cmcrGU9iyn8mbsqKgcVWf5ayybqWiw81Tz6uXfviImp20qJ%2B0n666qpKSnJnLqabCtoinsbVYtZqcrsGcTc7JmNhdc8rgwJOdtqR4tmB%2FfmlghJFml21khJvBnKG2VWLcmsCzV6S%2FxqGKfamPsYFnenhVruGeu26pnMzPl5J9lcPaw6B2gqOv5p6%2Ft5pcl9dloHFmia12VKG0qJ%2BZp8K6o028z5eTXZjJ7rJUqr2hppmeu7JYqpLHlNawmJjhrqCvrXB135q5wZxoktSo17l5vugQ4aixlq2Ze7K8nJPAxJwt3qXG3MBXgqmi%2FSaltq%2BqTaejeYpllNE%2B9lSLvalpq2l%2Ff2BQncKgLeqfxtzAVIyKe1qhmm2%2BmJ%2FLyqWKoZh9yK6ma3plbKxicKSYmcbTU9yio77uwJWgt1X9GaxttJiaGg6f056mfcuPelxwlq484m2drKGGk2OcblyA0a6gq7pVrN6prsGqjrvQUy3dpn3hrqH%2F9aGj2qxtnnlzd4mUiq2Uz%2B%2B2plysmlrGmr99aV2JlFyNk5TJ6r9UoLdVfN6nsrT62rrKooqq9gbftqNccJauPOJtnayhhpNjnG5cgNGuoKu6VZ7oWY%2BzpZK9JODNpqJ96BDdoLGkWqGabb6Yn8vKpYqhmH3IrqZremVsrGLJvnKp091lmm1miqt%2BYWx5iWqpc31%2BcV2Hu24%3D&ma=ano&dt1=2013-01-01&dt2=2021-01-01&ag=m&ultdisp=1&ultdisp=0). Já a estimativa da população de cada município está disponível na [API de dados agregados do IBGE](https://servicodados.ibge.gov.br/api/docs/agregados?versao=3#api-Variaveis-agregadosAgregadoPeriodosPeriodosVariaveisVariavelGet)."
   ]
  },
  {
   "cell_type": "code",
   "execution_count": 88,
   "metadata": {},
   "outputs": [
    {
     "name": "stdout",
     "output_type": "stream",
     "text": [
      "Getting data for year 2013\n"
     ]
    },
    {
     "name": "stderr",
     "output_type": "stream",
     "text": [
      "/home/cristiano/Downloads/IA/code/MC906/.venv/lib/python3.10/site-packages/urllib3/connectionpool.py:1103: InsecureRequestWarning: Unverified HTTPS request is being made to host 'servicodados.ibge.gov.br'. Adding certificate verification is strongly advised. See: https://urllib3.readthedocs.io/en/latest/advanced-usage.html#tls-warnings\n",
      "  warnings.warn(\n"
     ]
    },
    {
     "name": "stdout",
     "output_type": "stream",
     "text": [
      "Building IBGE 2013 dataframe...\n",
      "Getting data for year 2014\n"
     ]
    },
    {
     "name": "stderr",
     "output_type": "stream",
     "text": [
      "/home/cristiano/Downloads/IA/code/MC906/.venv/lib/python3.10/site-packages/urllib3/connectionpool.py:1103: InsecureRequestWarning: Unverified HTTPS request is being made to host 'servicodados.ibge.gov.br'. Adding certificate verification is strongly advised. See: https://urllib3.readthedocs.io/en/latest/advanced-usage.html#tls-warnings\n",
      "  warnings.warn(\n"
     ]
    },
    {
     "name": "stdout",
     "output_type": "stream",
     "text": [
      "Building IBGE 2014 dataframe...\n",
      "Getting data for year 2015\n"
     ]
    },
    {
     "name": "stderr",
     "output_type": "stream",
     "text": [
      "/home/cristiano/Downloads/IA/code/MC906/.venv/lib/python3.10/site-packages/urllib3/connectionpool.py:1103: InsecureRequestWarning: Unverified HTTPS request is being made to host 'servicodados.ibge.gov.br'. Adding certificate verification is strongly advised. See: https://urllib3.readthedocs.io/en/latest/advanced-usage.html#tls-warnings\n",
      "  warnings.warn(\n"
     ]
    },
    {
     "name": "stdout",
     "output_type": "stream",
     "text": [
      "Building IBGE 2015 dataframe...\n",
      "Getting data for year 2016\n"
     ]
    },
    {
     "name": "stderr",
     "output_type": "stream",
     "text": [
      "/home/cristiano/Downloads/IA/code/MC906/.venv/lib/python3.10/site-packages/urllib3/connectionpool.py:1103: InsecureRequestWarning: Unverified HTTPS request is being made to host 'servicodados.ibge.gov.br'. Adding certificate verification is strongly advised. See: https://urllib3.readthedocs.io/en/latest/advanced-usage.html#tls-warnings\n",
      "  warnings.warn(\n"
     ]
    },
    {
     "name": "stdout",
     "output_type": "stream",
     "text": [
      "Building IBGE 2016 dataframe...\n",
      "Getting data for year 2017\n"
     ]
    },
    {
     "name": "stderr",
     "output_type": "stream",
     "text": [
      "/home/cristiano/Downloads/IA/code/MC906/.venv/lib/python3.10/site-packages/urllib3/connectionpool.py:1103: InsecureRequestWarning: Unverified HTTPS request is being made to host 'servicodados.ibge.gov.br'. Adding certificate verification is strongly advised. See: https://urllib3.readthedocs.io/en/latest/advanced-usage.html#tls-warnings\n",
      "  warnings.warn(\n"
     ]
    },
    {
     "name": "stdout",
     "output_type": "stream",
     "text": [
      "Building IBGE 2017 dataframe...\n",
      "Getting data for year 2018\n"
     ]
    },
    {
     "name": "stderr",
     "output_type": "stream",
     "text": [
      "/home/cristiano/Downloads/IA/code/MC906/.venv/lib/python3.10/site-packages/urllib3/connectionpool.py:1103: InsecureRequestWarning: Unverified HTTPS request is being made to host 'servicodados.ibge.gov.br'. Adding certificate verification is strongly advised. See: https://urllib3.readthedocs.io/en/latest/advanced-usage.html#tls-warnings\n",
      "  warnings.warn(\n"
     ]
    },
    {
     "name": "stdout",
     "output_type": "stream",
     "text": [
      "Building IBGE 2018 dataframe...\n",
      "Getting data for year 2019\n"
     ]
    },
    {
     "name": "stderr",
     "output_type": "stream",
     "text": [
      "/home/cristiano/Downloads/IA/code/MC906/.venv/lib/python3.10/site-packages/urllib3/connectionpool.py:1103: InsecureRequestWarning: Unverified HTTPS request is being made to host 'servicodados.ibge.gov.br'. Adding certificate verification is strongly advised. See: https://urllib3.readthedocs.io/en/latest/advanced-usage.html#tls-warnings\n",
      "  warnings.warn(\n"
     ]
    },
    {
     "name": "stdout",
     "output_type": "stream",
     "text": [
      "Building IBGE 2019 dataframe...\n",
      "Getting data for year 2020\n"
     ]
    },
    {
     "name": "stderr",
     "output_type": "stream",
     "text": [
      "/home/cristiano/Downloads/IA/code/MC906/.venv/lib/python3.10/site-packages/urllib3/connectionpool.py:1103: InsecureRequestWarning: Unverified HTTPS request is being made to host 'servicodados.ibge.gov.br'. Adding certificate verification is strongly advised. See: https://urllib3.readthedocs.io/en/latest/advanced-usage.html#tls-warnings\n",
      "  warnings.warn(\n"
     ]
    },
    {
     "name": "stdout",
     "output_type": "stream",
     "text": [
      "Building IBGE 2020 dataframe...\n",
      "Getting data for year 2021\n"
     ]
    },
    {
     "name": "stderr",
     "output_type": "stream",
     "text": [
      "/home/cristiano/Downloads/IA/code/MC906/.venv/lib/python3.10/site-packages/urllib3/connectionpool.py:1103: InsecureRequestWarning: Unverified HTTPS request is being made to host 'servicodados.ibge.gov.br'. Adding certificate verification is strongly advised. See: https://urllib3.readthedocs.io/en/latest/advanced-usage.html#tls-warnings\n",
      "  warnings.warn(\n"
     ]
    },
    {
     "name": "stdout",
     "output_type": "stream",
     "text": [
      "Building IBGE 2021 dataframe...\n",
      "Merging population estimate IBGE dataframes...\n",
      "Finished building the table with population estimate\n"
     ]
    }
   ],
   "source": [
    "# Build the table with population estimate\n",
    "years = list(range(2013, 2022))\n",
    "population_estimate_dfs = []\n",
    "\n",
    "for year in years:\n",
    "    print(f\"Getting data for year {year}\")\n",
    "    population_estimate_url = f\"https://servicodados.ibge.gov.br/api/v3/agregados/6579/periodos/{year}/variaveis/9324?localidades=N6[all]\"\n",
    "    response = requests.get(population_estimate_url, verify=False)\n",
    "\n",
    "    if response.status_code == 200:\n",
    "        data = response.json()\n",
    "        print(f\"Building IBGE {year} dataframe...\")\n",
    "        population_estimate_dfs.append(_ibge_json_to_ibge_df(data))\n",
    "    else:\n",
    "        print(\"Request failed with status code:\", response.status_code)\n",
    "\n",
    "print(\"Merging population estimate IBGE dataframes...\")\n",
    "complete_population_estimate = reduce(lambda df1,df2: pd.merge(df1,df2,on='localidade.id', how='outer'), population_estimate_dfs)\n",
    "\n",
    "# Rename Columns\n",
    "new_column_names = {'serie.{}'.format(year): 'POP_ESTIMATE_{}'.format(year) for year in years}\n",
    "new_column_names[\"localidade.id\"] = PRIMARY_KEY\n",
    "complete_population_estimate = complete_population_estimate.rename(columns=new_column_names)\n",
    "\n",
    "# Cast columns to int\n",
    "complete_population_estimate = complete_population_estimate.astype(int)\n",
    "\n",
    "# Add a auxiliary column to possibly merge with the other table\n",
    "# The last digit of the CO_MUNICIPIO is a check digit: https://medium.com/@salibi/como-validar-o-c%C3%B3digo-de-munic%C3%ADpio-do-ibge-90dc545cc533\n",
    "complete_population_estimate[f'AUX_{PRIMARY_KEY}'] = (complete_population_estimate[PRIMARY_KEY]//10)\n",
    "\n",
    "print(\"Finished building the table with population estimate\")"
   ]
  },
  {
   "cell_type": "code",
   "execution_count": 89,
   "metadata": {},
   "outputs": [],
   "source": [
    "vis_pbf_df = pd.read_csv(F'{RAW_DATA_DIR}/vis_data_3_pbf.csv', sep=',')\n",
    "\n",
    "# Drop columns and rename\n",
    "vis_pbf_df=vis_pbf_df[[\"Código\", \"Referência\", \"Famílias PBF (até Out/2021)\"]]\n",
    "new_column_names = {\n",
    "    'Código': PRIMARY_KEY,\n",
    "    \"Referência\" : \"ANO\",\n",
    "    \"Famílias PBF (até Out/2021)\": \"NUM_FAMILIAS_PBF\"\n",
    "}\n",
    "vis_pbf_df = vis_pbf_df.rename(columns=new_column_names)\n",
    "\n",
    "# Pivot the table\n",
    "vis_pbf_df = vis_pbf_df.pivot_table(index=PRIMARY_KEY, columns='ANO', values='NUM_FAMILIAS_PBF')\n",
    "vis_pbf_df = vis_pbf_df.reset_index()"
   ]
  },
  {
   "cell_type": "code",
   "execution_count": 96,
   "metadata": {},
   "outputs": [
    {
     "data": {
      "text/html": [
       "<table id=\"itables_0605e5cc_ed7d_430d_9b24_5f9ef0127f62\" class=\"display nowrap\" data-quarto-disable-processing=\"true\" style=\"table-layout:auto;width:auto;margin:auto;caption-side:bottom\">\n",
       "<thead>\n",
       "    <tr style=\"text-align: right;\">\n",
       "      \n",
       "      <th>CO_MUNICIPIO</th>\n",
       "      <th>PERCENTUAL_FAMILIAS_PBF_2013</th>\n",
       "      <th>PERCENTUAL_FAMILIAS_PBF_2014</th>\n",
       "      <th>PERCENTUAL_FAMILIAS_PBF_2015</th>\n",
       "      <th>PERCENTUAL_FAMILIAS_PBF_2016</th>\n",
       "      <th>PERCENTUAL_FAMILIAS_PBF_2017</th>\n",
       "      <th>PERCENTUAL_FAMILIAS_PBF_2018</th>\n",
       "      <th>PERCENTUAL_FAMILIAS_PBF_2019</th>\n",
       "      <th>PERCENTUAL_FAMILIAS_PBF_2020</th>\n",
       "      <th>PERCENTUAL_FAMILIAS_PBF_2021</th>\n",
       "    </tr>\n",
       "  </thead><tbody><tr>\n",
       "<td style=\"vertical-align:middle; text-align:left\">\n",
       "<div style=\"float:left; margin-right: 10px;\">\n",
       "<a href=https://mwouts.github.io/itables/><svg class=\"main-svg\" xmlns=\"http://www.w3.org/2000/svg\" xmlns:xlink=\"http://www.w3.org/1999/xlink\"\n",
       "width=\"64\" viewBox=\"0 0 500 400\" style=\"font-family: 'Droid Sans', sans-serif;\">\n",
       "    <g style=\"fill:#d9d7fc\">\n",
       "        <path d=\"M100,400H500V357H100Z\" />\n",
       "        <path d=\"M100,300H400V257H100Z\" />\n",
       "        <path d=\"M0,200H400V157H0Z\" />\n",
       "        <path d=\"M100,100H500V57H100Z\" />\n",
       "        <path d=\"M100,350H500V307H100Z\" />\n",
       "        <path d=\"M100,250H400V207H100Z\" />\n",
       "        <path d=\"M0,150H400V107H0Z\" />\n",
       "        <path d=\"M100,50H500V7H100Z\" />\n",
       "    </g>\n",
       "    <g style=\"fill:#1a1366;stroke:#1a1366;\">\n",
       "   <rect x=\"100\" y=\"7\" width=\"400\" height=\"43\">\n",
       "    <animate\n",
       "      attributeName=\"width\"\n",
       "      values=\"0;400;0\"\n",
       "      dur=\"5s\"\n",
       "      repeatCount=\"indefinite\" />\n",
       "      <animate\n",
       "      attributeName=\"x\"\n",
       "      values=\"100;100;500\"\n",
       "      dur=\"5s\"\n",
       "      repeatCount=\"indefinite\" />\n",
       "  </rect>\n",
       "        <rect x=\"0\" y=\"107\" width=\"400\" height=\"43\">\n",
       "    <animate\n",
       "      attributeName=\"width\"\n",
       "      values=\"0;400;0\"\n",
       "      dur=\"3.5s\"\n",
       "      repeatCount=\"indefinite\" />\n",
       "    <animate\n",
       "      attributeName=\"x\"\n",
       "      values=\"0;0;400\"\n",
       "      dur=\"3.5s\"\n",
       "      repeatCount=\"indefinite\" />\n",
       "  </rect>\n",
       "        <rect x=\"100\" y=\"207\" width=\"300\" height=\"43\">\n",
       "    <animate\n",
       "      attributeName=\"width\"\n",
       "      values=\"0;300;0\"\n",
       "      dur=\"3s\"\n",
       "      repeatCount=\"indefinite\" />\n",
       "    <animate\n",
       "      attributeName=\"x\"\n",
       "      values=\"100;100;400\"\n",
       "      dur=\"3s\"\n",
       "      repeatCount=\"indefinite\" />\n",
       "  </rect>\n",
       "        <rect x=\"100\" y=\"307\" width=\"400\" height=\"43\">\n",
       "    <animate\n",
       "      attributeName=\"width\"\n",
       "      values=\"0;400;0\"\n",
       "      dur=\"4s\"\n",
       "      repeatCount=\"indefinite\" />\n",
       "      <animate\n",
       "      attributeName=\"x\"\n",
       "      values=\"100;100;500\"\n",
       "      dur=\"4s\"\n",
       "      repeatCount=\"indefinite\" />\n",
       "  </rect>\n",
       "        <g style=\"fill:transparent;stroke-width:8; stroke-linejoin:round\" rx=\"5\">\n",
       "            <g transform=\"translate(45 50) rotate(-45)\">\n",
       "                <circle r=\"33\" cx=\"0\" cy=\"0\" />\n",
       "                <rect x=\"-8\" y=\"32\" width=\"16\" height=\"30\" />\n",
       "            </g>\n",
       "\n",
       "            <g transform=\"translate(450 152)\">\n",
       "                <polyline points=\"-15,-20 -35,-20 -35,40 25,40 25,20\" />\n",
       "                <rect x=\"-15\" y=\"-40\" width=\"60\" height=\"60\" />\n",
       "            </g>\n",
       "\n",
       "            <g transform=\"translate(50 352)\">\n",
       "                <polygon points=\"-35,-5 0,-40 35,-5\" />\n",
       "                <polygon points=\"-35,10 0,45 35,10\" />\n",
       "            </g>\n",
       "\n",
       "            <g transform=\"translate(75 250)\">\n",
       "                <polyline points=\"-30,30 -60,0 -30,-30\" />\n",
       "                <polyline points=\"0,30 -30,0 0,-30\" />\n",
       "            </g>\n",
       "\n",
       "            <g transform=\"translate(425 250) rotate(180)\">\n",
       "                <polyline points=\"-30,30 -60,0 -30,-30\" />\n",
       "                <polyline points=\"0,30 -30,0 0,-30\" />\n",
       "            </g>\n",
       "        </g>\n",
       "    </g>\n",
       "</svg>\n",
       "</a>\n",
       "</div>\n",
       "<div>\n",
       "Loading ITables v2.0.1 from the internet...\n",
       "(need <a href=https://mwouts.github.io/itables/troubleshooting.html>help</a>?)</td>\n",
       "</div>\n",
       "</tr></tbody>\n",
       "\n",
       "</table>\n",
       "<link href=\"https://www.unpkg.com/dt_for_itables@2.0.5/dt_bundle.css\" rel=\"stylesheet\">\n",
       "<script type=\"module\">\n",
       "    import {DataTable, jQuery as $} from 'https://www.unpkg.com/dt_for_itables@2.0.5/dt_bundle.js';\n",
       "\n",
       "    document.querySelectorAll(\"#itables_0605e5cc_ed7d_430d_9b24_5f9ef0127f62:not(.dataTable)\").forEach(table => {\n",
       "        // Define the table data\n",
       "        const data = [[1100015, 0.08217, 0.08167, 0.07276, 0.06595, 0.06164, 0.06466, 0.06141, 0.06705, 0.06848], [1100023, 0.06024, 0.05378, 0.04985, 0.04239, 0.03866, 0.03734, 0.03099, 0.03596, 0.04132], [1100031, 0.07975, 0.06289, 0.06216, 0.04118, 0.03438, 0.03439, 0.02993, 0.03604, 0.04362], [1100049, 0.05583, 0.04634, 0.04222, 0.03424, 0.02804, 0.03149, 0.02788, 0.03646, 0.04228], [1100056, 0.06064, 0.0438, 0.0487, 0.04388, 0.03719, 0.04062, 0.03755, 0.04388, 0.04656], [1100064, 0.04977, 0.04547, 0.03901, 0.02452, 0.02236, 0.02366, 0.01964, 0.02406, 0.02649], [1100072, 0.09385, 0.09085, 0.07872, 0.07201, 0.05717, 0.05868, 0.05074, 0.05291, 0.05757], [1100080, 0.10257, 0.10106, 0.10456, 0.10217, 0.09902, 0.09364, 0.08723, 0.09161, 0.08709], [1100098, 0.08108, 0.06069, 0.05555, 0.04732, 0.04363, 0.0435, 0.04028, 0.04771, 0.04968], [1100106, 0.08789, 0.09225, 0.08666, 0.07409, 0.06451, 0.06647, 0.06216, 0.0714, 0.07688], [1100114, 0.07524, 0.07087, 0.06762, 0.05611, 0.04394, 0.04105, 0.03614, 0.04039, 0.04197], [1100122, 0.04504, 0.03777, 0.03517, 0.03304, 0.02251, 0.02025, 0.01519, 0.01847, 0.01989], [1100130, 0.08498, 0.07662, 0.07652, 0.06702, 0.05778, 0.05174, 0.04146, 0.04475, 0.04237], [1100148, 0.12041, 0.12408, 0.10272, 0.08989, 0.07219, 0.06994, 0.06164, 0.07023, 0.07945], [1100155, 0.0496, 0.04349, 0.03702, 0.03223, 0.02684, 0.02719, 0.02314, 0.03268, 0.04071], [1100189, 0.05011, 0.04789, 0.04207, 0.03483, 0.02631, 0.02327, 0.02049, 0.02381, 0.02359], [1100205, 0.05057, 0.05325, 0.04943, 0.0471, 0.0458, 0.04877, 0.04261, 0.04917, 0.04709], [1100254, 0.0941, 0.10372, 0.10165, 0.0929, 0.09189, 0.09356, 0.08069, 0.091, 0.11049], [1100262, 0.1132, 0.1038, 0.0928, 0.08153, 0.05432, 0.04781, 0.03773, 0.04968, 0.05386], [1100288, 0.06344, 0.05179, 0.04274, 0.03247, 0.02737, 0.0259, 0.02265, 0.02628, 0.02748], [1100296, 0.0809, 0.07305, 0.062, 0.05848, 0.05209, 0.06076, 0.05727, 0.07014, 0.08129], [1100304, 0.04557, 0.04772, 0.04316, 0.03725, 0.03766, 0.0346, 0.02603, 0.02753, 0.0268], [1100320, 0.0916, 0.07234, 0.0585, 0.05973, 0.04429, 0.03942, 0.03073, 0.03436, 0.03772], [1100338, 0.11336, 0.1216, 0.1104, 0.07478, 0.05064, 0.0455, 0.0376, 0.04364, 0.04331], [1100346, 0.11736, 0.1248, 0.11815, 0.10028, 0.09034, 0.09197, 0.08098, 0.08876, 0.09024], [1100379, 0.09771, 0.08989, 0.0736, 0.06353, 0.05924, 0.05595, 0.05173, 0.05817, 0.06165], [1100403, 0.09548, 0.09778, 0.09396, 0.07059, 0.05508, 0.05257, 0.04452, 0.0498, 0.05342], [1100452, 0.09192, 0.08654, 0.08069, 0.07017, 0.05758, 0.05486, 0.04537, 0.04924, 0.04676], [1100502, 0.09757, 0.09564, 0.09293, 0.08572, 0.07263, 0.07542, 0.0684, 0.07708, 0.0784], [1100601, 0.07658, 0.06632, 0.05827, 0.04864, 0.03978, 0.03958, 0.03258, 0.03844, 0.04059], [1100700, 0.09843, 0.09637, 0.09226, 0.07984, 0.05896, 0.05004, 0.03649, 0.03848, 0.03697], [1100809, 0.08445, 0.08204, 0.07493, 0.07561, 0.08925, 0.11257, 0.10171, 0.09541, 0.09174], [1100908, 0.09352, 0.08952, 0.08073, 0.07675, 0.06366, 0.06412, 0.05767, 0.07533, 0.07698], [1100924, 0.07939, 0.07899, 0.0701, 0.05789, 0.05117, 0.04327, 0.03693, 0.03966, 0.04117], [1100940, 0.0831, 0.08528, 0.0781, 0.07187, 0.05721, 0.05032, 0.04081, 0.04255, 0.04054], [1101005, 0.14078, 0.13789, 0.13331, 0.12222, 0.10416, 0.10735, 0.09527, 0.11175, 0.11431], [1101104, 0.10527, 0.10914, 0.09075, 0.07701, 0.06285, 0.06065, 0.05011, 0.05798, 0.05869], [1101203, 0.08588, 0.07855, 0.07004, 0.0547, 0.04455, 0.04722, 0.04193, 0.05011, 0.05655], [1101302, 0.10691, 0.09763, 0.08552, 0.0602, 0.06029, 0.06787, 0.06276, 0.07229, 0.06819], [1101401, 0.08732, 0.08969, 0.07692, 0.05514, 0.0443, 0.04078, 0.03362, 0.0383, 0.04171], [1101435, 0.077, 0.06189, 0.06301, 0.04861, 0.05458, 0.05846, 0.04591, 0.0496, 0.05218], [1101450, 0.11557, 0.10879, 0.09233, 0.07049, 0.05674, 0.0496, 0.03704, 0.04259, 0.04589], [1101468, 0.08197, 0.08059, 0.08086, 0.0724, 0.06722, 0.08124, 0.07331, 0.08101, 0.09027], [1101476, 0.10203, 0.05891, 0.06198, 0.05642, 0.05658, 0.06397, 0.05287, 0.06952, 0.07564], [1101484, 0.1005, 0.09172, 0.06521, 0.02001, 0.02219, 0.02405, 0.02301, 0.02606, 0.03466], [1101492, 0.10506, 0.10086, 0.0921, 0.07823, 0.05519, 0.05312, 0.04248, 0.04705, 0.04951], [1101500, 0.12187, 0.11225, 0.10118, 0.08948, 0.07453, 0.07454, 0.06621, 0.07274, 0.07395], [1101559, 0.08858, 0.09244, 0.08215, 0.06907, 0.05841, 0.05862, 0.05107, 0.06, 0.06611], [1101609, 0.10315, 0.08964, 0.08654, 0.07023, 0.05374, 0.05355, 0.04433, 0.04839, 0.04967], [1101708, 0.12512, 0.11194, 0.09719, 0.08092, 0.06501, 0.07244, 0.06331, 0.07026, 0.07644], [1101757, 0.08947, 0.08847, 0.08171, 0.07092, 0.05534, 0.05667, 0.05221, 0.05678, 0.05743], [1101807, 0.10849, 0.09595, 0.08711, 0.0682, 0.06437, 0.07188, 0.0674, 0.08053, 0.09569], [1200013, 0.13158, 0.13392, 0.13873, 0.1267, 0.11625, 0.1235, 0.10547, 0.11524, 0.11411], [1200054, 0.14923, 0.13918, 0.1401, 0.15329, 0.17621, 0.19151, 0.19091, 0.18755, 0.18381], [1200104, 0.13826, 0.13769, 0.14206, 0.14771, 0.14577, 0.13053, 0.11896, 0.12512, 0.12093], [1200138, 0.1294, 0.12962, 0.13363, 0.13796, 0.14466, 0.14568, 0.13589, 0.13081, 0.12429], [1200179, 0.122, 0.12311, 0.11288, 0.1061, 0.11647, 0.12055, 0.12742, 0.11517, 0.11091], [1200203, 0.11837, 0.11813, 0.11524, 0.11977, 0.12742, 0.12315, 0.11841, 0.11578, 0.11397], [1200252, 0.09814, 0.09862, 0.10179, 0.09332, 0.09193, 0.09657, 0.0956, 0.10366, 0.10243], [1200302, 0.14085, 0.14714, 0.15884, 0.16465, 0.16465, 0.14448, 0.13557, 0.14101, 0.138], [1200328, 0.15475, 0.15143, 0.14622, 0.14834, 0.15818, 0.1608, 0.15883, 0.15673, 0.15786], [1200336, 0.14985, 0.14826, 0.14383, 0.15765, 0.17554, 0.17287, 0.16973, 0.16664, 0.16337], [1200344, 0.14286, 0.15046, 0.14778, 0.15881, 0.18343, 0.19141, 0.18469, 0.18025, 0.17771], [1200351, 0.14044, 0.14475, 0.14028, 0.14631, 0.15204, 0.15545, 0.14666, 0.14374, 0.13991], [1200385, 0.10295, 0.09756, 0.09951, 0.09353, 0.09222, 0.08362, 0.07611, 0.08148, 0.08175], [1200393, 0.11634, 0.12178, 0.11981, 0.1228, 0.13045, 0.13268, 0.12619, 0.1227, 0.11843], [1200401, 0.06955, 0.06542, 0.06906, 0.0668, 0.05979, 0.05995, 0.05454, 0.06166, 0.06253], [1200427, 0.13396, 0.13093, 0.13238, 0.13422, 0.13569, 0.13446, 0.12831, 0.13281, 0.1289], [1200435, 0.11686, 0.11407, 0.11052, 0.11493, 0.15441, 0.17086, 0.17187, 0.16778, 0.16742], [1200450, 0.11068, 0.11719, 0.11142, 0.11994, 0.17734, 0.18922, 0.18316, 0.17417, 0.16992], [1200500, 0.13111, 0.12879, 0.12723, 0.12657, 0.14321, 0.15213, 0.15093, 0.14769, 0.14372], [1200609, 0.12877, 0.13709, 0.1321, 0.14437, 0.1639, 0.17284, 0.17344, 0.16839, 0.16417], [1200708, 0.10728, 0.10949, 0.10972, 0.11121, 0.10702, 0.10605, 0.10231, 0.10665, 0.10364], [1200807, 0.14174, 0.14937, 0.1403, 0.13997, 0.1527, 0.15556, 0.14413, 0.14051, 0.13667], [1300029, 0.1388, 0.14235, 0.13857, 0.1468, 0.15998, 0.15517, 0.14313, 0.14279, 0.14199], [1300060, 0.12773, 0.13106, 0.13644, 0.12999, 0.13859, 0.13625, 0.1315, 0.13131, 0.13424], [1300086, 0.1143, 0.11577, 0.10536, 0.11452, 0.13893, 0.14636, 0.14353, 0.13994, 0.13679], [1300102, 0.11089, 0.10023, 0.10678, 0.11849, 0.14453, 0.14885, 0.13927, 0.13433, 0.13051], [1300144, 0.10181, 0.09374, 0.09575, 0.08464, 0.0811, 0.06973, 0.05912, 0.0716, 0.08197], [1300201, 0.12437, 0.13071, 0.11675, 0.11425, 0.10449, 0.09739, 0.09553, 0.10251, 0.10389], [1300300, 0.13734, 0.14829, 0.14555, 0.16505, 0.19207, 0.19848, 0.18868, 0.18526, 0.18154], [1300409, 0.10575, 0.10226, 0.10167, 0.09642, 0.08997, 0.08972, 0.0865, 0.09834, 0.10622], [1300508, 0.13391, 0.13291, 0.14091, 0.14891, 0.16594, 0.17418, 0.16881, 0.16427, 0.16155], [1300607, 0.12286, 0.12177, 0.11235, 0.11384, 0.12207, 0.12504, 0.12346, 0.12141, 0.12092], [1300631, 0.13524, 0.13506, 0.13158, 0.14387, 0.20866, 0.25652, 0.24102, 0.23451, 0.22904], [1300680, 0.12663, 0.13097, 0.12718, 0.1245, 0.12704, 0.12736, 0.11996, 0.12173, 0.11886], [1300706, 0.1383, 0.13995, 0.14019, 0.14527, 0.16152, 0.15402, 0.13886, 0.14361, 0.14123], [1300805, 0.10173, 0.09706, 0.09918, 0.10553, 0.10775, 0.12139, 0.11929, 0.12781, 0.12616], [1300839, 0.11288, 0.12879, 0.12359, 0.12756, 0.14009, 0.15423, 0.15473, 0.14906, 0.14493], [1300904, 0.12851, 0.13564, 0.13906, 0.14544, 0.153, 0.16744, 0.15855, 0.1586, 0.15644], [1301001, 0.14224, 0.15099, 0.14279, 0.15677, 0.18785, 0.20623, 0.20799, 0.20573, 0.20401], [1301100, 0.13375, 0.13754, 0.13671, 0.13707, 0.1338, 0.14669, 0.13626, 0.14522, 0.14039], [1301159, 0.10834, 0.12366, 0.12791, 0.13409, 0.13686, 0.13523, 0.12685, 0.12828, 0.12413], [1301209, 0.11856, 0.12207, 0.11472, 0.12298, 0.13051, 0.12124, 0.11241, 0.11673, 0.11452], [1301308, 0.10371, 0.10906, 0.11921, 0.12892, 0.1246, 0.12345, 0.11433, 0.11732, 0.11397], [1301407, 0.13596, 0.1402, 0.13158, 0.13758, 0.15217, 0.15847, 0.14972, 0.14787, 0.1451], [1301506, 0.14575, 0.15264, 0.14117, 0.14381, 0.15057, 0.14918, 0.14167, 0.13921, 0.13698], [1301605, 0.14113, 0.15295, 0.14666, 0.15867, 0.1781, 0.1945, 0.19831, 0.20435, 0.21001], [1301654, 0.14224, 0.14845, 0.13825, 0.1428, 0.15466, 0.15467, 0.15541, 0.15091, 0.14779], [1301704, 0.11065, 0.11929, 0.11251, 0.11088, 0.12963, 0.14437, 0.12908, 0.12409, 0.12073], [1301803, 0.11797, 0.11341, 0.11296, 0.11078, 0.1223, 0.1339, 0.12698, 0.12357, 0.12011], [1301852, 0.13356, 0.14033, 0.129, 0.13689, 0.19957, 0.25354, 0.23818, 0.23025, 0.22366], [1301902, 0.10138, 0.1034, 0.10748, 0.10859, 0.11227, 0.11454, 0.10866, 0.10572, 0.1029], [1301951, 0.18088, 0.18574, 0.18547, 0.19625, 0.20374, 0.21488, 0.20787, 0.20463, 0.20458], [1302009, 0.14292, 0.14937, 0.13772, 0.13794, 0.15671, 0.17939, 0.17643, 0.17237, 0.17053], [1302108, 0.13973, 0.1536, 0.18829, 0.2133, 0.24614, 0.29158, 0.33067, 0.44069, 0.57094], [1302207, 0.11613, 0.10783, 0.10085, 0.10014, 0.10426, 0.10977, 0.10903, 0.10532, 0.10203], [1302306, 0.15613, 0.16357, 0.16503, 0.17401, 0.19079, 0.21989, 0.22833, 0.23736, 0.24551], [1302405, 0.14214, 0.14652, 0.13432, 0.13891, 0.16141, 0.17348, 0.17454, 0.1722, 0.16938], [1302504, 0.11139, 0.1165, 0.10789, 0.11733, 0.17072, 0.19224, 0.17978, 0.17518, 0.17153], [1302553, 0.1228, 0.12096, 0.10773, 0.10871, 0.10195, 0.09799, 0.09045, 0.09471, 0.09158], [1302603, 0.06983, 0.06342, 0.06513, 0.06274, 0.05574, 0.05951, 0.05348, 0.0611, 0.05816], [1302702, 0.10575, 0.10328, 0.10024, 0.10572, 0.09876, 0.10536, 0.09724, 0.10721, 0.10433], [1302801, 0.13211, 0.14749, 0.14178, 0.14937, 0.15736, 0.16001, 0.15617, 0.15541, 0.15472], [1302900, 0.134, 0.13888, 0.1343, 0.14147, 0.15587, 0.15785, 0.14517, 0.14091, 0.13729], [1303007, 0.1535, 0.16366, 0.1537, 0.1597, 0.17616, 0.17408, 0.16757, 0.16434, 0.16094], [1303106, 0.09844, 0.10644, 0.11051, 0.10869, 0.11394, 0.11519, 0.11089, 0.1149, 0.11168], [1303205, 0.12082, 0.12012, 0.11816, 0.1141, 0.11466, 0.12027, 0.10959, 0.11035, 0.10709], [1303304, 0.10662, 0.11391, 0.11487, 0.11486, 0.12213, 0.12842, 0.11827, 0.12313, 0.11958], [1303403, 0.1119, 0.1154, 0.11473, 0.11657, 0.13028, 0.13948, 0.13721, 0.13464, 0.13236], [1303502, 0.13405, 0.13999, 0.13175, 0.13829, 0.15319, 0.16183, 0.15603, 0.15552, 0.15365], [1303536, 0.09972, 0.10845, 0.09987, 0.09566, 0.10974, 0.11171, 0.10309, 0.09784, 0.09306], [1303569, 0.09431, 0.10336, 0.10292, 0.10232, 0.09797, 0.09451, 0.08729, 0.09292, 0.0892], [1303601, 0.10364, 0.10842, 0.10775, 0.10289, 0.0959, 0.09077, 0.08726, 0.08575, 0.08526], [1303700, 0.1477, 0.1613, 0.15556, 0.16652, 0.18977, 0.20099, 0.19345, 0.19734, 0.19637], [1303809, 0.13537, 0.13202, 0.14202, 0.13374, 0.1267, 0.12259, 0.11092, 0.12319, 0.12779], [1303908, 0.10154, 0.10012, 0.09922, 0.10984, 0.10768, 0.10723, 0.10252, 0.10641, 0.1051], [1303957, 0.10863, 0.111, 0.10672, 0.10706, 0.11966, 0.11626, 0.1087, 0.10424, 0.10192], [1304005, 0.14219, 0.13989, 0.1328, 0.143, 0.19412, 0.22009, 0.21579, 0.21008, 0.20702], [1304062, 0.10809, 0.11698, 0.11115, 0.11502, 0.11607, 0.11297, 0.09981, 0.105, 0.10121], [1304104, 0.15275, 0.15137, 0.1575, 0.1423, 0.14685, 0.15377, 0.14036, 0.15004, 0.15762], [1304203, 0.11392, 0.11281, 0.10941, 0.11917, 0.13736, 0.14243, 0.14067, 0.14019, 0.13948], [1304237, 0.12807, 0.12777, 0.12572, 0.13606, 0.15557, 0.16781, 0.16865, 0.16802, 0.16483], [1304260, 0.12569, 0.12675, 0.12888, 0.13573, 0.16629, 0.18271, 0.17038, 0.16764, 0.16547], [1304302, 0.1394, 0.144, 0.1491, 0.15511, 0.17274, 0.18013, 0.17612, 0.17619, 0.17574], [1304401, 0.12125, 0.12366, 0.11202, 0.11552, 0.14638, 0.16111, 0.15474, 0.14662, 0.14221], [1400027, 0.09509, 0.11053, 0.1054, 0.10784, 0.10026, 0.11086, 0.10808, 0.11293, 0.11673], [1400050, 0.11535, 0.12821, 0.15004, 0.17442, 0.14548, 0.14049, 0.13256, 0.1472, 0.15385], [1400100, 0.07398, 0.07469, 0.06954, 0.06855, 0.0532, 0.05508, 0.04198, 0.05632, 0.05231], [1400159, 0.15879, 0.15217, 0.1524, 0.15266, 0.17773, 0.18194, 0.18728, 0.18539, 0.18668], [1400175, 0.14253, 0.13605, 0.13642, 0.12545, 0.13059, 0.13001, 0.13597, 0.13272, 0.12842], [1400209, 0.13419, 0.14083, 0.12867, 0.12889, 0.15101, 0.15498, 0.14567, 0.13849, 0.1347], [1400233, 0.1312, 0.13582, 0.13104, 0.13203, 0.13947, 0.13729, 0.1363, 0.13002, 0.12449], [1400282, 0.15591, 0.15025, 0.13556, 0.12764, 0.128, 0.11879, 0.1087, 0.11199, 0.10699], [1400308, 0.14852, 0.15585, 0.14158, 0.14448, 0.16603, 0.18308, 0.18983, 0.18033, 0.17698], [1400407, 0.11852, 0.11605, 0.1353, 0.14228, 0.13803, 0.15138, 0.16918, 0.1723, 0.17593], [1400456, 0.12948, 0.12951, 0.12269, 0.12187, 0.12873, 0.09294, 0.08597, 0.08211, 0.07654], [1400472, 0.13059, 0.13315, 0.12811, 0.11684, 0.11731, 0.1197, 0.10569, 0.12582, 0.12136], [1400506, 0.13001, 0.12917, 0.12666, 0.11378, 0.1124, 0.1032, 0.1006, 0.11224, 0.1094], [1400605, 0.138, 0.12943, 0.12785, 0.11609, 0.12005, 0.12952, 0.11871, 0.13613, 0.13192], [1400704, 0.13652, 0.12848, 0.12416, 0.14332, 0.11915, 0.1353, 0.1341, 0.14144, 0.14028], [1500107, 0.14026, 0.14014, 0.13103, 0.14464, 0.19516, 0.21711, 0.21395, 0.21015, 0.2065], [1500131, 0.14673, 0.14936, 0.14314, 0.14459, 0.15129, 0.15904, 0.15443, 0.15055, 0.14769], [1500206, 0.15908, 0.18119, 0.17045, 0.175, 0.19216, 0.20415, 0.19708, 0.19539, 0.19245], [1500305, 0.14211, 0.13763, 0.14886, 0.1561, 0.17924, 0.17999, 0.17066, 0.1685, 0.16522], [1500347, 0.14105, 0.13499, 0.12127, 0.10896, 0.10194, 0.10224, 0.09059, 0.09947, 0.10526], [1500404, 0.15755, 0.16172, 0.16289, 0.16448, 0.17377, 0.19504, 0.19756, 0.19497, 0.19228], [1500503, 0.12303, 0.1298, 0.12454, 0.1286, 0.1549, 0.16311, 0.16019, 0.15809, 0.15733], [1500602, 0.08182, 0.08625, 0.0982, 0.09494, 0.0941, 0.10051, 0.09036, 0.10048, 0.09728], [1500701, 0.14201, 0.15689, 0.15033, 0.16257, 0.17941, 0.1815, 0.16989, 0.16926, 0.16583], [1500800, 0.07913, 0.07481, 0.08125, 0.07818, 0.07072, 0.06496, 0.05651, 0.06285, 0.06376], [1500859, 0.14084, 0.14104, 0.12776, 0.13719, 0.16947, 0.19377, 0.19179, 0.18572, 0.18221], [1500909, 0.16466, 0.18024, 0.17291, 0.17478, 0.17445, 0.1744, 0.16651, 0.17103, 0.16703], [1500958, 0.12992, 0.12677, 0.13044, 0.12964, 0.1296, 0.12973, 0.12311, 0.12923, 0.12714], [1501006, 0.16047, 0.16094, 0.15615, 0.15072, 0.13821, 0.12443, 0.11917, 0.12418, 0.12752], [1501105, 0.10977, 0.10745, 0.10512, 0.11464, 0.11302, 0.11803, 0.11658, 0.1139, 0.11115], [1501204, 0.11949, 0.11411, 0.11564, 0.11956, 0.12468, 0.13429, 0.13204, 0.12922, 0.12596], [1501253, 0.11856, 0.11656, 0.12427, 0.12125, 0.12312, 0.11782, 0.10864, 0.11527, 0.12504], [1501303, 0.10791, 0.11121, 0.10172, 0.1056, 0.11753, 0.12262, 0.10788, 0.10391, 0.10044], [1501402, 0.06575, 0.07065, 0.07733, 0.07824, 0.07828, 0.08023, 0.07706, 0.07877, 0.07686], [1501451, 0.16165, 0.17301, 0.16031, 0.16553, 0.18117, 0.1658, 0.14437, 0.14614, 0.14194], [1501501, 0.1014, 0.11027, 0.10323, 0.10957, 0.1406, 0.16447, 0.16206, 0.15699, 0.15289], [1501576, 0.12748, 0.13096, 0.12448, 0.11908, 0.11582, 0.12291, 0.11678, 0.12484, 0.12154], [1501600, 0.13418, 0.13649, 0.13689, 0.13423, 0.12277, 0.12308, 0.11673, 0.12674, 0.1263], [1501709, 0.13187, 0.12724, 0.12957, 0.12624, 0.12397, 0.12587, 0.11873, 0.1253, 0.12016], [1501725, 0.13634, 0.13535, 0.13768, 0.13395, 0.15229, 0.16985, 0.16857, 0.17934, 0.17832], [1501758, 0.17021, 0.1776, 0.16607, 0.16916, 0.17363, 0.14908, 0.12696, 0.13545, 0.14272], [1501782, 0.13365, 0.11665, 0.10885, 0.10225, 0.10415, 0.10658, 0.10111, 0.10741, 0.10697], [1501808, 0.13269, 0.14569, 0.13829, 0.14638, 0.16189, 0.16315, 0.16288, 0.16083, 0.15826], [1501907, 0.17748, 0.18198, 0.17231, 0.18597, 0.20218, 0.19551, 0.18063, 0.17732, 0.17401], [1501956, 0.1137, 0.11768, 0.1278, 0.13451, 0.13661, 0.13446, 0.12003, 0.12364, 0.12247], [1502004, 0.15695, 0.16258, 0.15373, 0.16765, 0.18897, 0.18179, 0.1938, 0.1897, 0.18534], [1502103, 0.14123, 0.14629, 0.13704, 0.14775, 0.14443, 0.14266, 0.14062, 0.13905, 0.136], [1502152, 0.09974, 0.09402, 0.08861, 0.09092, 0.10895, 0.10846, 0.09807, 0.0939, 0.09439], [1502202, 0.12874, 0.11482, 0.11136, 0.10035, 0.09675, 0.10487, 0.10332, 0.11202, 0.11242], [1502301, 0.16676, 0.15212, 0.14926, 0.14588, 0.14985, 0.14688, 0.13745, 0.14673, 0.152], [1502400, 0.10176, 0.10513, 0.09983, 0.08623, 0.07419, 0.0697, 0.06359, 0.07081, 0.07471], [1502509, 0.13087, 0.1425, 0.1415, 0.14022, 0.14042, 0.13419, 0.12877, 0.14081, 0.1377], [1502608, 0.12164, 0.12782, 0.12438, 0.12106, 0.13989, 0.15324, 0.1535, 0.16693, 0.16435], [1502707, 0.11366, 0.10613, 0.10641, 0.09517, 0.08166, 0.07383, 0.06514, 0.06974, 0.07029], [1502756, 0.13399, 0.14389, 0.13202, 0.13546, 0.13993, 0.15852, 0.15505, 0.15207, 0.14891], [1502764, 0.11005, 0.11409, 0.10786, 0.10537, 0.10456, 0.10494, 0.08758, 0.09759, 0.09371], [1502772, 0.16449, 0.17311, 0.16348, 0.16395, 0.17825, 0.17964, 0.16733, 0.1736, 0.17203], [1502806, 0.1366, 0.14017, 0.129, 0.13333, 0.14888, 0.16, 0.1594, 0.15726, 0.15274], [1502855, 0.16637, 0.15773, 0.15757, 0.15671, 0.1579, 0.15834, 0.14736, 0.1561, 0.15065], [1502905, 0.16186, 0.1782, 0.16365, 0.17843, 0.20799, 0.21763, 0.20479, 0.19882, 0.1948], [1502939, 0.08077, 0.07705, 0.07651, 0.07067, 0.07074, 0.07382, 0.0678, 0.0768, 0.08034], [1502954, 0.11826, 0.12525, 0.13305, 0.12617, 0.11498, 0.10821, 0.09326, 0.10062, 0.09856], [1503002, 0.17266, 0.18177, 0.17892, 0.19141, 0.221, 0.22872, 0.2409, 0.24286, 0.24363], [1503044, 0.14663, 0.13907, 0.13473, 0.13113, 0.12428, 0.11758, 0.10348, 0.11264, 0.12169], [1503077, 0.16827, 0.17869, 0.16675, 0.18378, 0.19923, 0.1867, 0.17628, 0.17399, 0.16987], [1503093, 0.10871, 0.10972, 0.10517, 0.09618, 0.0836, 0.08418, 0.0754, 0.0822, 0.08525], [1503101, 0.13272, 0.1363, 0.13193, 0.14375, 0.16276, 0.17911, 0.17773, 0.17577, 0.17239], [1503200, 0.15831, 0.17625, 0.16479, 0.168, 0.17575, 0.17114, 0.16059, 0.16542, 0.16149], [1503309, 0.15388, 0.15914, 0.15473, 0.16262, 0.17113, 0.16472, 0.15568, 0.15393, 0.14844], [1503408, 0.14365, 0.15318, 0.15091, 0.15476, 0.16386, 0.15546, 0.14345, 0.14661, 0.14064], [1503457, 0.08975, 0.08509, 0.08124, 0.08135, 0.08603, 0.09394, 0.0895, 0.09521, 0.09731], [1503507, 0.16631, 0.17665, 0.17375, 0.17594, 0.19073, 0.20241, 0.19401, 0.19104, 0.18809], [1503606, 0.11279, 0.12297, 0.1162, 0.11639, 0.12999, 0.13023, 0.12092, 0.11841, 0.11608], [1503705, 0.13106, 0.13349, 0.13344, 0.1319, 0.12434, 0.11809, 0.11264, 0.12346, 0.1311], [1503754, 0.17788, 0.19694, 0.21897, 0.23678, 0.288, 0.27509, 0.30878, 0.34664, 0.3891], [1503804, 0.12263, 0.12441, 0.12454, 0.12177, 0.1172, 0.12525, 0.11953, 0.12508, 0.12206], [1503903, 0.11035, 0.10479, 0.10643, 0.10225, 0.10012, 0.09855, 0.0933, 0.0989, 0.09586], [1504000, 0.14988, 0.16275, 0.1531, 0.1598, 0.17272, 0.18322, 0.18103, 0.1783, 0.17507], [1504059, 0.15002, 0.15559, 0.1509, 0.1578, 0.20065, 0.2168, 0.2063, 0.20172, 0.19925], [1504109, 0.1466, 0.14613, 0.1319, 0.1322, 0.1348, 0.13892, 0.13372, 0.14126, 0.1441], [1504208, 0.0799, 0.07356, 0.06727, 0.05899, 0.04974, 0.05214, 0.05146, 0.05914, 0.06015], [1504307, 0.17292, 0.17774, 0.177, 0.18048, 0.20175, 0.20884, 0.20191, 0.19989, 0.19642], [1504406, 0.14967, 0.15586, 0.14758, 0.14863, 0.15652, 0.14805, 0.13721, 0.14211, 0.1384], [1504422, 0.10024, 0.10625, 0.09704, 0.09733, 0.09962, 0.10586, 0.09976, 0.0968, 0.09425], [1504455, 0.13016, 0.12223, 0.12658, 0.1304, 0.13611, 0.14119, 0.13552, 0.14583, 0.1428], [1504505, 0.1377, 0.13623, 0.13502, 0.13031, 0.14351, 0.14959, 0.14779, 0.14546, 0.14295], [1504604, 0.14736, 0.14672, 0.14195, 0.162, 0.19834, 0.21327, 0.20738, 0.20365, 0.19989], [1504703, 0.13844, 0.14672, 0.14005, 0.15147, 0.17016, 0.18774, 0.18787, 0.18298, 0.17904], [1504752, 0.00197, 0.08239, 0.14651, 0.17803, 0.19449, 0.19685, 0.20032, 0.1947, 0.19224], [1504802, 0.17148, 0.18109, 0.17279, 0.17542, 0.17774, 0.16822, 0.15938, 0.16638, 0.16209], [1504901, 0.14012, 0.15423, 0.1448, 0.15255, 0.16586, 0.16932, 0.16489, 0.16215, 0.15909], [1504950, 0.18497, 0.20252, 0.19431, 0.2022, 0.20439, 0.20844, 0.19894, 0.19623, 0.19429], [1504976, 0.1328, 0.11969, 0.10887, 0.09849, 0.08723, 0.09019, 0.0822, 0.09048, 0.08915], [1505007, 0.15072, 0.15174, 0.15162, 0.15307, 0.15835, 0.15587, 0.14528, 0.1511, 0.14675], [1505031, 0.069, 0.07545, 0.0732, 0.06832, 0.07004, 0.06627, 0.06032, 0.06893, 0.06512], [1505064, 0.1166, 0.10574, 0.1063, 0.09948, 0.08378, 0.08221, 0.07409, 0.08188, 0.08465], [1505106, 0.1346, 0.13256, 0.13221, 0.13313, 0.12934, 0.12222, 0.1164, 0.12551, 0.12704], [1505205, 0.15318, 0.15949, 0.14845, 0.16025, 0.19359, 0.19753, 0.1879, 0.18402, 0.18121], [1505304, 0.11722, 0.11632, 0.12467, 0.1255, 0.1225, 0.11777, 0.10887, 0.1147, 0.11056], [1505403, 0.17141, 0.18303, 0.17307, 0.1813, 0.19486, 0.19705, 0.19011, 0.1859, 0.18242], [1505437, 0.10377, 0.1111, 0.10801, 0.10648, 0.12061, 0.12442, 0.12007, 0.11684, 0.11274], [1505486, 0.14525, 0.14871, 0.16164, 0.15773, 0.16763, 0.15835, 0.15013, 0.16165, 0.15783], [1505494, 0.17816, 0.1835, 0.17645, 0.19071, 0.20918, 0.20063, 0.18804, 0.18372, 0.17954], [1505502, 0.10608, 0.10519, 0.10563, 0.10058, 0.09335, 0.09134, 0.08258, 0.08882, 0.08814], [1505536, 0.04527, 0.04815, 0.05388, 0.04667, 0.04057, 0.04636, 0.04461, 0.05723, 0.05558], [1505551, 0.1743, 0.18414, 0.17453, 0.17899, 0.18667, 0.18103, 0.16907, 0.18983, 0.18992], [1505601, 0.18874, 0.18158, 0.17793, 0.15368, 0.14173, 0.13502, 0.12814, 0.13909, 0.14448], [1505635, 0.157, 0.14421, 0.1398, 0.12661, 0.11748, 0.11084, 0.09907, 0.11103, 0.1183], [1505650, 0.09668, 0.10004, 0.10143, 0.10226, 0.09681, 0.10045, 0.09373, 0.10032, 0.10258], [1505700, 0.1357, 0.1516, 0.13927, 0.1431, 0.1558, 0.16234, 0.15472, 0.15075, 0.14719], [1505809, 0.13146, 0.1366, 0.13292, 0.13614, 0.1301, 0.1272, 0.11768, 0.12047, 0.11748], [1505908, 0.12606, 0.13051, 0.12108, 0.12017, 0.13831, 0.14707, 0.14204, 0.1387, 0.1368], [1506005, 0.18308, 0.1945, 0.18466, 0.20723, 0.23735, 0.25333, 0.25286, 0.2523, 0.25098], [1506104, 0.15079, 0.14142, 0.1505, 0.15785, 0.17107, 0.17522, 0.17386, 0.18283, 0.1788], [1506112, 0.15524, 0.15244, 0.1554, 0.16048, 0.16613, 0.16955, 0.16872, 0.17151, 0.17044], [1506138, 0.08229, 0.07708, 0.07201, 0.07169, 0.06647, 0.07049, 0.06356, 0.07123, 0.07123], [1506161, 0.1002, 0.08612, 0.07848, 0.06907, 0.06332, 0.07368, 0.06783, 0.07912, 0.08524], [1506187, 0.09439, 0.08752, 0.08394, 0.08032, 0.0756, 0.07067, 0.06595, 0.06977, 0.07162], [1506195, 0.0862, 0.08687, 0.08226, 0.07471, 0.07325, 0.07909, 0.0784, 0.08495, 0.08911], [1506203, 0.11123, 0.11417, 0.10919, 0.11249, 0.1089, 0.10429, 0.09846, 0.10579, 0.10305], [1506302, 0.15408, 0.153, 0.15172, 0.16684, 0.2038, 0.20394, 0.19106, 0.18999, 0.18588], [1506351, 0.13872, 0.12502, 0.11871, 0.10993, 0.10341, 0.12645, 0.11476, 0.12788, 0.12503], [1506401, 0.13654, 0.14928, 0.13656, 0.14966, 0.17745, 0.18422, 0.1798, 0.17578, 0.1713], [1506500, 0.11394, 0.11299, 0.11357, 0.09785, 0.09296, 0.0951, 0.08739, 0.09235, 0.09085], [1506559, 0.17672, 0.18642, 0.18429, 0.19315, 0.21267, 0.22139, 0.21619, 0.21267, 0.21095], [1506583, 0.15929, 0.15265, 0.14479, 0.13709, 0.11876, 0.11487, 0.10359, 0.10682, 0.10816], [1506609, 0.15785, 0.16049, 0.15602, 0.14656, 0.15265, 0.14863, 0.13716, 0.14735, 0.14455], [1506708, 0.05302, 0.05605, 0.06524, 0.06704, 0.06469, 0.06685, 0.06136, 0.06755, 0.0717], [1506807, 0.10169, 0.10253, 0.10398, 0.09785, 0.09471, 0.09494, 0.08814, 0.10183, 0.09884], [1506906, 0.18972, 0.20219, 0.18611, 0.1913, 0.24196, 0.27731, 0.27858, 0.26018, 0.24382], [1507003, 0.14485, 0.1505, 0.13683, 0.13655, 0.13838, 0.13947, 0.12826, 0.13538, 0.13145], [1507102, 0.16518, 0.17211, 0.16297, 0.16293, 0.16028, 0.15209, 0.14781, 0.15274, 0.14857], [1507151, 0.13206, 0.13171, 0.13231, 0.12965, 0.13223, 0.12627, 0.11578, 0.1222, 0.11825], [1507201, 0.16079, 0.15798, 0.15651, 0.15636, 0.15917, 0.165, 0.16109, 0.16818, 0.16553], [1507300, 0.06257, 0.06335, 0.06095, 0.05933, 0.05677, 0.06014, 0.05439, 0.06088, 0.06305], [1507409, 0.1494, 0.1556, 0.14694, 0.14172, 0.1476, 0.15765, 0.15999, 0.15694, 0.15377], [1507458, 0.15334, 0.14963, 0.14561, 0.13307, 0.12915, 0.12653, 0.12014, 0.12694, 0.12814], [1507466, 0.16797, 0.17622, 0.15772, 0.16196, 0.16181, 0.18369, 0.17853, 0.17275, 0.17159], [1507474, 0.1719, 0.1635, 0.16238, 0.15743, 0.15628, 0.14946, 0.13218, 0.14008, 0.14036], [1507508, 0.15761, 0.17231, 0.17358, 0.17555, 0.17707, 0.17131, 0.16462, 0.17066, 0.16554], [1507607, 0.13889, 0.14151, 0.13503, 0.13609, 0.14443, 0.1459, 0.13693, 0.13379, 0.12922], [1507706, 0.15955, 0.16392, 0.15202, 0.16789, 0.18835, 0.19771, 0.19422, 0.19081, 0.18753], [1507755, 0.10788, 0.10907, 0.10149, 0.09246, 0.08273, 0.07933, 0.07049, 0.07921, 0.08574], [1507805, 0.19244, 0.20058, 0.20335, 0.22275, 0.27481, 0.29741, 0.2829, 0.28249, 0.28341], [1507904, 0.13767, 0.14487, 0.13448, 0.13827, 0.1427, 0.15039, 0.14913, 0.14629, 0.14348], [1507953, 0.11356, 0.10968, 0.10826, 0.10061, 0.09065, 0.08799, 0.07701, 0.08415, 0.08481], [1507961, 0.16919, 0.17889, 0.16601, 0.17563, 0.20502, 0.22095, 0.21672, 0.20993, 0.20525], [1507979, 0.13376, 0.13237, 0.12682, 0.13427, 0.1486, 0.14899, 0.14156, 0.13903, 0.13886], [1508001, 0.13432, 0.14018, 0.12839, 0.13396, 0.14823, 0.15218, 0.14407, 0.14025, 0.13733], [1508035, 0.17168, 0.16766, 0.15669, 0.15661, 0.15963, 0.17537, 0.168, 0.1783, 0.17544], [1508050, 0.11398, 0.10979, 0.1044, 0.09984, 0.10623, 0.11565, 0.11201, 0.1202, 0.11849], [1508084, 0.08192, 0.07537, 0.07135, 0.0621, 0.05157, 0.04982, 0.04366, 0.05098, 0.05371], [1508100, 0.08797, 0.08849, 0.08318, 0.0839, 0.09293, 0.09513, 0.08579, 0.08263, 0.07907], [1508126, 0.07596, 0.07196, 0.06926, 0.0634, 0.06216, 0.06221, 0.05457, 0.05828, 0.06186], [1508159, 0.13147, 0.13204, 0.13483, 0.13198, 0.13369, 0.137, 0.13139, 0.14465, 0.14422], [1508209, 0.13463, 0.13945, 0.12929, 0.13823, 0.14777, 0.15063, 0.13877, 0.13505, 0.13054], [1508308, 0.16765, 0.16661, 0.16183, 0.16276, 0.15686, 0.15232, 0.14431, 0.15318, 0.15056], [1508357, 0.0825, 0.08622, 0.09662, 0.1025, 0.09865, 0.08761, 0.07837, 0.09137, 0.09293], [1508407, 0.08796, 0.09007, 0.08746, 0.08996, 0.08325, 0.08527, 0.0739, 0.08539, 0.08981], [1600055, 0.08045, 0.0767, 0.10632, 0.10766, 0.14185, 0.17867, 0.15379, 0.14796, 0.1438], [1600105, 0.12295, 0.12838, 0.11726, 0.12129, 0.1649, 0.24399, 0.23285, 0.22978, 0.22321], [1600154, 0.06696, 0.07278, 0.08872, 0.08723, 0.10063, 0.11405, 0.11132, 0.10916, 0.10496], [1600204, 0.12897, 0.12997, 0.12506, 0.12334, 0.12751, 0.12749, 0.12027, 0.11755, 0.11416], [1600212, 0.12121, 0.13551, 0.12225, 0.1233, 0.1476, 0.13779, 0.1282, 0.12768, 0.12353], [1600238, 0.10483, 0.11171, 0.09825, 0.10047, 0.11596, 0.10394, 0.0973, 0.09401, 0.09066], [1600253, 0.13427, 0.16005, 0.14851, 0.17072, 0.26721, 0.31984, 0.29511, 0.28503, 0.27417], [1600279, 0.11225, 0.11676, 0.10868, 0.10914, 0.12666, 0.1339, 0.12317, 0.11797, 0.11363], [1600303, 0.05386, 0.05166, 0.06332, 0.06336, 0.06292, 0.0635, 0.0627, 0.06596, 0.06417], [1600402, 0.11313, 0.12131, 0.11548, 0.12147, 0.16873, 0.19358, 0.19406, 0.18886, 0.18333], [1600501, 0.08331, 0.08718, 0.08309, 0.08091, 0.08152, 0.08503, 0.07726, 0.0735, 0.07009], [1600535, 0.07965, 0.09603, 0.10682, 0.10803, 0.11212, 0.12353, 0.11538, 0.11032, 0.10677], [1600550, 0.12556, 0.11013, 0.09932, 0.09989, 0.10316, 0.12037, 0.12461, 0.12104, 0.11788], [1600600, 0.09436, 0.09862, 0.09249, 0.09197, 0.1138, 0.12808, 0.11789, 0.11316, 0.10955], [1600709, 0.11069, 0.11949, 0.12194, 0.12889, 0.13145, 0.12513, 0.11089, 0.11059, 0.10622], [1600808, 0.12555, 0.13208, 0.12072, 0.12364, 0.14269, 0.15418, 0.14933, 0.14427, 0.13933], [1700251, 0.13208, 0.12683, 0.12997, 0.11389, 0.10385, 0.09087, 0.0791, 0.08674, 0.10119], [1700301, 0.11048, 0.1064, 0.10002, 0.0918, 0.09536, 0.09084, 0.07723, 0.08024, 0.07717], [1700350, 0.12715, 0.12383, 0.11936, 0.10674, 0.11724, 0.11391, 0.10649, 0.11859, 0.12653], [1700400, 0.14233, 0.15989, 0.1509, 0.14101, 0.12375, 0.11976, 0.1185, 0.13283, 0.1428], [1700707, 0.09022, 0.08542, 0.0765, 0.07542, 0.08149, 0.08235, 0.08524, 0.08206, 0.08161], [1701002, 0.125, 0.12848, 0.12266, 0.12349, 0.14566, 0.14177, 0.12808, 0.13137, 0.12867], [1701051, 0.12635, 0.11803, 0.11512, 0.10262, 0.09086, 0.07609, 0.06204, 0.06977, 0.07108], [1701101, 0.13544, 0.12936, 0.11239, 0.0914, 0.08337, 0.085, 0.06632, 0.07653, 0.09182], [1701309, 0.13545, 0.13518, 0.12318, 0.11177, 0.10435, 0.09609, 0.08579, 0.09597, 0.10167], [1701903, 0.12582, 0.10956, 0.10229, 0.07744, 0.06911, 0.061, 0.05179, 0.06024, 0.06465], [1702000, 0.05762, 0.06518, 0.06107, 0.05633, 0.04682, 0.05416, 0.05131, 0.06815, 0.08078], [1702109, 0.06671, 0.07331, 0.06808, 0.06516, 0.05164, 0.04214, 0.03624, 0.04248, 0.04404], [1702158, 0.13107, 0.1395, 0.12584, 0.12435, 0.13127, 0.13615, 0.13109, 0.12584, 0.1209], [1702208, 0.12281, 0.11356, 0.10956, 0.09891, 0.0945, 0.09257, 0.07998, 0.08347, 0.0823], [1702307, 0.10359, 0.10233, 0.09899, 0.08794, 0.07845, 0.06237, 0.05449, 0.0588, 0.0563], [1702406, 0.1465, 0.15789, 0.14799, 0.14425, 0.13676, 0.13169, 0.12501, 0.13338, 0.13397], [1702554, 0.11931, 0.11279, 0.10603, 0.09938, 0.08983, 0.08538, 0.07636, 0.08234, 0.08612], [1702703, 0.13572, 0.13519, 0.1271, 0.1216, 0.12155, 0.10882, 0.09981, 0.10071, 0.10134], [1702901, 0.16601, 0.16196, 0.15475, 0.14495, 0.20172, 0.20997, 0.1927, 0.18964, 0.186], [1703008, 0.11539, 0.10962, 0.10656, 0.09885, 0.10184, 0.10261, 0.09724, 0.10585, 0.10911], [1703057, 0.11031, 0.11157, 0.10029, 0.10058, 0.09343, 0.08542, 0.07149, 0.07823, 0.08565], [1703073, 0.13315, 0.13293, 0.11861, 0.11304, 0.11026, 0.0976, 0.08713, 0.0924, 0.10079], [1703107, 0.12957, 0.14322, 0.13319, 0.12451, 0.1159, 0.11115, 0.09908, 0.10547, 0.11166], [1703206, 0.1181, 0.11454, 0.10966, 0.09702, 0.09318, 0.09935, 0.0906, 0.09982, 0.11241], [1703305, 0.11035, 0.11053, 0.10855, 0.10719, 0.11638, 0.11697, 0.11197, 0.10763, 0.10664], [1703602, 0.12163, 0.09603, 0.096, 0.10192, 0.09914, 0.0963, 0.08587, 0.09724, 0.10851], [1703701, 0.13259, 0.1244, 0.12328, 0.1116, 0.10093, 0.08895, 0.07768, 0.08009, 0.07888], [1703800, 0.11291, 0.10037, 0.09025, 0.07627, 0.07562, 0.07163, 0.06433, 0.06767, 0.07266], [1703826, 0.14043, 0.14203, 0.13298, 0.14563, 0.13708, 0.13592, 0.12176, 0.13441, 0.13432], [1703842, 0.124, 0.11785, 0.10215, 0.10006, 0.08137, 0.07633, 0.07078, 0.07894, 0.08253], [1703867, 0.08882, 0.09791, 0.08664, 0.08023, 0.04493, 0.0486, 0.04313, 0.05337, 0.06201], [1703883, 0.1164, 0.11724, 0.10251, 0.09206, 0.08337, 0.08646, 0.07713, 0.08183, 0.08946], [1703891, 0.1618, 0.15615, 0.16344, 0.15526, 0.14353, 0.15225, 0.12943, 0.1339, 0.13733], [1703909, 0.13938, 0.13722, 0.12932, 0.12825, 0.15632, 0.17054, 0.16223, 0.15711, 0.15343], [1704105, 0.11655, 0.11259, 0.11274, 0.10335, 0.09665, 0.09151, 0.08778, 0.08856, 0.09575], [1704600, 0.1342, 0.11862, 0.10093, 0.102, 0.13717, 0.12634, 0.12091, 0.12837, 0.12862], [1705102, 0.13296, 0.11359, 0.11716, 0.11627, 0.11474, 0.12208, 0.11041, 0.12699, 0.14024], [1705508, 0.0825, 0.07705, 0.07704, 0.06869, 0.05761, 0.05676, 0.05256, 0.05846, 0.05892], [1705557, 0.12596, 0.12751, 0.12348, 0.12215, 0.12043, 0.11728, 0.11006, 0.11438, 0.11396], [1705607, 0.14858, 0.13447, 0.1283, 0.12995, 0.1206, 0.11251, 0.11035, 0.11965, 0.12948], [1706001, 0.15713, 0.15661, 0.15302, 0.13128, 0.12606, 0.12157, 0.10684, 0.11172, 0.10633], [1706100, 0.10623, 0.10821, 0.1121, 0.11653, 0.11432, 0.10685, 0.10015, 0.0992, 0.10292], [1706258, 0.09509, 0.08643, 0.08631, 0.07202, 0.06089, 0.05504, 0.05168, 0.05706, 0.05946], [1706506, 0.13157, 0.12254, 0.10783, 0.09506, 0.08901, 0.08508, 0.08184, 0.09427, 0.10224], [1707009, 0.09127, 0.09463, 0.08801, 0.08342, 0.07126, 0.06654, 0.0575, 0.06413, 0.06633], [1707108, 0.14025, 0.1443, 0.1359, 0.11505, 0.0945, 0.10414, 0.09551, 0.10716, 0.10908], [1707207, 0.18978, 0.17946, 0.16448, 0.16027, 0.1728, 0.16558, 0.13601, 0.12958, 0.13202], [1707306, 0.11763, 0.10381, 0.1025, 0.09439, 0.09351, 0.08534, 0.07832, 0.09176, 0.10521], [1707405, 0.14319, 0.13808, 0.13735, 0.13088, 0.1122, 0.11381, 0.11095, 0.11931, 0.12491], [1707553, 0.11228, 0.10285, 0.0947, 0.08758, 0.08946, 0.08331, 0.07066, 0.07859, 0.08342], [1707652, 0.11123, 0.11086, 0.10936, 0.10244, 0.0994, 0.09046, 0.07258, 0.08201, 0.08809], [1707702, 0.14068, 0.13407, 0.1285, 0.11769, 0.11582, 0.1161, 0.10784, 0.11641, 0.12078], [1708205, 0.10216, 0.09823, 0.10709, 0.09918, 0.1026, 0.08944, 0.075, 0.08202, 0.08204], [1708254, 0.11832, 0.12156, 0.11854, 0.11518, 0.2082, 0.19449, 0.17767, 0.17256, 0.16941], [1708304, 0.17009, 0.17756, 0.16806, 0.16485, 0.16903, 0.17494, 0.16162, 0.16628, 0.16297], [1709005, 0.15501, 0.14745, 0.14548, 0.13867, 0.13474, 0.13468, 0.12858, 0.13723, 0.13889], [1709302, 0.06927, 0.06536, 0.0734, 0.07796, 0.06181, 0.05838, 0.04683, 0.05366, 0.05492], [1709500, 0.05504, 0.05707, 0.05522, 0.04671, 0.037, 0.03288, 0.02828, 0.0315, 0.03185], [1709807, 0.12971, 0.12968, 0.11058, 0.1074, 0.10281, 0.10926, 0.10918, 0.12037, 0.11207], [1710508, 0.14193, 0.14551, 0.14357, 0.14111, 0.14244, 0.14014, 0.13696, 0.14694, 0.14617], [1710706, 0.15873, 0.16065, 0.15808, 0.15066, 0.14298, 0.13365, 0.11767, 0.12106, 0.12515], [1710904, 0.1439, 0.14497, 0.14309, 0.14845, 0.17126, 0.16126, 0.14218, 0.14545, 0.1408], [1711100, 0.12741, 0.1253, 0.11268, 0.11093, 0.09128, 0.08583, 0.07458, 0.08512, 0.08624], [1711506, 0.10979, 0.10134, 0.10662, 0.11237, 0.11097, 0.10683, 0.09457, 0.10598, 0.11111], [1711803, 0.13263, 0.12206, 0.12383, 0.12159, 0.11395, 0.10536, 0.10032, 0.11493, 0.1196], [1711902, 0.07879, 0.07311, 0.0719, 0.06791, 0.07121, 0.07665, 0.07277, 0.07839, 0.07778], [1711951, 0.14761, 0.13091, 0.12138, 0.12783, 0.11954, 0.10951, 0.09662, 0.09606, 0.09575], [1712009, 0.10859, 0.09963, 0.1041, 0.085, 0.0663, 0.06417, 0.0568, 0.06631, 0.07752], [1712157, 0.11893, 0.09933, 0.10143, 0.10136, 0.09173, 0.10201, 0.08112, 0.0957, 0.11139], [1712405, 0.17945, 0.13076, 0.12329, 0.12081, 0.1117, 0.10539, 0.1008, 0.11037, 0.11672], [1712454, 0.1124, 0.09565, 0.09338, 0.0859, 0.08525, 0.0951, 0.08237, 0.09607, 0.10875], [1712504, 0.12622, 0.12048, 0.11295, 0.09365, 0.09616, 0.09776, 0.07729, 0.07956, 0.08215], [1712702, 0.09918, 0.08878, 0.08082, 0.0751, 0.07383, 0.06596, 0.05849, 0.07182, 0.07501], [1712801, 0.15122, 0.1459, 0.14991, 0.13556, 0.11939, 0.11431, 0.11121, 0.11572, 0.12997], [1713205, 0.10334, 0.10214, 0.10227, 0.09328, 0.09121, 0.08699, 0.07519, 0.08352, 0.08946], [1713304, 0.11433, 0.12122, 0.11355, 0.10469, 0.0975, 0.09129, 0.08166, 0.08775, 0.09261], [1713601, 0.1146, 0.10996, 0.11042, 0.12268, 0.11557, 0.09991, 0.08783, 0.09286, 0.10083], [1713700, 0.16075, 0.17442, 0.16764, 0.15703, 0.15415, 0.15731, 0.14129, 0.14815, 0.14626], [1713809, 0.12573, 0.11177, 0.10233, 0.07876, 0.09992, 0.12801, 0.1164, 0.12113, 0.11654], [1713957, 0.14511, 0.13196, 0.12992, 0.11614, 0.11377, 0.10899, 0.1011, 0.11848, 0.12917], [1714203, 0.12894, 0.12738, 0.11269, 0.08935, 0.08194, 0.08237, 0.0767, 0.08541, 0.08946], [1714302, 0.15973, 0.15098, 0.12736, 0.13477, 0.14655, 0.14246, 0.13366, 0.14397, 0.15774], [1714880, 0.13468, 0.13613, 0.13107, 0.11923, 0.11012, 0.09685, 0.08859, 0.09449, 0.0963], [1715002, 0.1008, 0.10084, 0.11184, 0.11469, 0.11706, 0.11293, 0.10446, 0.11942, 0.12305], [1715101, 0.12862, 0.13387, 0.13131, 0.12699, 0.1139, 0.11383, 0.10203, 0.10962, 0.11079], [1715150, 0.11665, 0.09362, 0.08422, 0.08673, 0.08542, 0.08491, 0.07547, 0.08148, 0.09863], [1715259, 0.13538, 0.13333, 0.12717, 0.13052, 0.12792, 0.11972, 0.10691, 0.10455, 0.11994], [1715507, 0.11336, 0.09258, 0.11293, 0.12047, 0.12973, 0.12929, 0.1232, 0.13238, 0.12811], [1715705, 0.13071, 0.1409, 0.13785, 0.13184, 0.12408, 0.10407, 0.09028, 0.09656, 0.09785], [1715754, 0.11026, 0.10639, 0.10726, 0.10318, 0.09028, 0.07695, 0.06907, 0.07686, 0.07694], [1716109, 0.05121, 0.0441, 0.04517, 0.04139, 0.03685, 0.03589, 0.03147, 0.03617, 0.03642], [1716208, 0.16079, 0.16703, 0.17242, 0.17061, 0.17402, 0.16767, 0.16069, 0.16585, 0.16497], [1716307, 0.08571, 0.08262, 0.09763, 0.10033, 0.10797, 0.10826, 0.09651, 0.10499, 0.11075], [1716505, 0.06597, 0.07229, 0.06566, 0.06116, 0.05727, 0.0574, 0.05119, 0.05445, 0.054], [1716604, 0.11305, 0.11018, 0.10714, 0.0941, 0.08722, 0.08044, 0.07022, 0.07563, 0.08211], [1716653, 0.15551, 0.15719, 0.14979, 0.13658, 0.12103, 0.11574, 0.1017, 0.10377, 0.1053], [1716703, 0.11814, 0.12376, 0.11805, 0.0977, 0.0987, 0.10363, 0.09592, 0.10257, 0.10844], [1717008, 0.14926, 0.14445, 0.14669, 0.13454, 0.12345, 0.12545, 0.11356, 0.11806, 0.12506], [1717206, 0.12595, 0.12864, 0.11481, 0.12344, 0.13732, 0.14654, 0.12913, 0.14573, 0.14352], [5006309, 0.05302, 0.05157, 0.04921, 0.04353, 0.03815, 0.0348, 0.02975, 0.0352, 0.04165], [5006358, 0.12291, 0.12133, 0.12309, 0.11818, 0.10872, 0.11005, 0.10704, 0.10907, 0.11279], [5006408, 0.09282, 0.1079, 0.09944, 0.09964, 0.10074, 0.09223, 0.08327, 0.08844, 0.08998], [5006606, 0.0828, 0.08697, 0.08394, 0.07407, 0.06122, 0.05425, 0.04654, 0.0543, 0.06184], [5006903, 0.0946, 0.08856, 0.08114, 0.0661, 0.05012, 0.03865, 0.03187, 0.03313, 0.03442], [5007109, 0.06385, 0.06574, 0.06272, 0.05377, 0.04656, 0.04361, 0.03786, 0.04214, 0.04228], [5007208, 0.05419, 0.0505, 0.04865, 0.03849, 0.03564, 0.03625, 0.03153, 0.03499, 0.03826], [5007307, 0.07416, 0.06547, 0.06925, 0.0581, 0.05192, 0.05478, 0.04161, 0.04632, 0.05149], [5007406, 0.06785, 0.07157, 0.06705, 0.06559, 0.0883, 0.09405, 0.08427, 0.07695, 0.07411], [5007505, 0.08223, 0.08165, 0.08244, 0.08245, 0.06715, 0.05793, 0.04383, 0.05158, 0.05664], [5007554, 0.0656, 0.05342, 0.04559, 0.03528, 0.02406, 0.0191, 0.0163, 0.01924, 0.02378], [5007695, 0.04235, 0.03981, 0.03635, 0.03761, 0.03549, 0.02993, 0.02383, 0.03027, 0.03427], [5007703, 0.07135, 0.06247, 0.05068, 0.04505, 0.04374, 0.0382, 0.03484, 0.0389, 0.04139], [5007802, 0.0641, 0.05015, 0.05531, 0.04978, 0.05199, 0.05019, 0.04243, 0.04494, 0.0479], [5007901, 0.08674, 0.09281, 0.08562, 0.08023, 0.07384, 0.06418, 0.05333, 0.0533, 0.05117], [5007935, 0.06148, 0.06164, 0.05319, 0.04008, 0.03077, 0.02942, 0.02511, 0.03321, 0.03631], [5007950, 0.12675, 0.12616, 0.12188, 0.11819, 0.1238, 0.13407, 0.12967, 0.12858, 0.12658], [5007976, 0.08683, 0.09048, 0.08711, 0.07591, 0.06527, 0.06475, 0.05825, 0.05797, 0.06159], [5008008, 0.05696, 0.05856, 0.05639, 0.05008, 0.03601, 0.03313, 0.02568, 0.03022, 0.03217], [5008305, 0.03517, 0.03386, 0.03636, 0.03526, 0.04683, 0.04991, 0.037, 0.03374, 0.03208], [5008404, 0.08016, 0.08106, 0.07549, 0.06314, 0.05363, 0.05505, 0.05015, 0.05811, 0.0677], [5100102, 0.13589, 0.12676, 0.13073, 0.12318, 0.13342, 0.13717, 0.13002, 0.14811, 0.14862], [5100201, 0.0377, 0.03834, 0.04208, 0.03445, 0.02828, 0.02509, 0.01718, 0.0216, 0.02736], [5100250, 0.05593, 0.06009, 0.05857, 0.04357, 0.03662, 0.03307, 0.02848, 0.03576, 0.04099], [5100300, 0.0553, 0.04858, 0.0502, 0.04232, 0.04333, 0.0393, 0.03429, 0.0391, 0.04606], [5100359, 0.08315, 0.07659, 0.07224, 0.0623, 0.07083, 0.07073, 0.06479, 0.0718, 0.07403], [5100409, 0.06252, 0.06169, 0.0643, 0.06316, 0.07787, 0.08055, 0.07265, 0.06987, 0.06995], [5100508, 0.07875, 0.07194, 0.06689, 0.05743, 0.06501, 0.07555, 0.06516, 0.0781, 0.08682], [5100607, 0.03473, 0.032, 0.03215, 0.0269, 0.05153, 0.04869, 0.03052, 0.02802, 0.02506], [5100805, 0.06565, 0.05536, 0.05085, 0.04178, 0.036, 0.03688, 0.03128, 0.03763, 0.04372], [5101001, 0.07182, 0.07497, 0.07849, 0.07715, 0.08037, 0.07021, 0.07032, 0.07494, 0.07474], [5101209, 0.10742, 0.098, 0.10451, 0.10598, 0.09989, 0.09205, 0.09412, 0.09197, 0.09461], [5101258, 0.07328, 0.07604, 0.07036, 0.0622, 0.05757, 0.05123, 0.04506, 0.05091, 0.05358], [5101308, 0.07835, 0.07969, 0.07609, 0.06381, 0.05521, 0.04509, 0.04247, 0.04873, 0.05181], [5101407, 0.08961, 0.07421, 0.0684, 0.05373, 0.05909, 0.05317, 0.04693, 0.05116, 0.05688], [5101605, 0.13655, 0.13254, 0.11892, 0.10157, 0.10061, 0.10125, 0.09447, 0.10816, 0.11219], [5101704, 0.08219, 0.07957, 0.06902, 0.06306, 0.05582, 0.0509, 0.04118, 0.04855, 0.05247], [5101803, 0.0689, 0.07081, 0.07201, 0.06521, 0.05867, 0.05851, 0.05115, 0.05804, 0.06549], [5101852, 0.09069, 0.09085, 0.08491, 0.08822, 0.10517, 0.0995, 0.08875, 0.08351, 0.07906], [5101902, 0.04812, 0.04787, 0.05349, 0.05587, 0.04773, 0.03725, 0.0264, 0.02835, 0.0281], [5102504, 0.08269, 0.08348, 0.08202, 0.07852, 0.07863, 0.07684, 0.06847, 0.07755, 0.07561], [5102603, 0.09705, 0.08917, 0.08536, 0.07678, 0.07546, 0.07031, 0.06821, 0.06691, 0.07033], [5102637, 0.02964, 0.03198, 0.0302, 0.02737, 0.02364, 0.01548, 0.01092, 0.0145, 0.01866], [5102678, 0.03393, 0.03106, 0.03014, 0.0277, 0.02887, 0.02298, 0.01664, 0.01767, 0.02155], [5102686, 0.04413, 0.04758, 0.04647, 0.03867, 0.08062, 0.07958, 0.06516, 0.05785, 0.05342], [5102694, 0.10152, 0.101, 0.10175, 0.09003, 0.07387, 0.06847, 0.0584, 0.0607, 0.06729], [5102702, 0.05345, 0.05369, 0.04741, 0.0455, 0.05336, 0.05026, 0.04347, 0.04606, 0.04479], [5102793, 0.11086, 0.10197, 0.08616, 0.07019, 0.06975, 0.06473, 0.05192, 0.0603, 0.06113], [5102850, 0.08536, 0.07411, 0.06877, 0.05932, 0.05382, 0.046, 0.03803, 0.03989, 0.04247], [5103007, 0.09716, 0.10459, 0.0969, 0.09447, 0.09255, 0.08347, 0.07457, 0.084, 0.07065], [5103056, 0.05068, 0.04224, 0.04824, 0.0417, 0.03628, 0.03004, 0.02231, 0.02638, 0.02804], [5103106, 0.06317, 0.05681, 0.06275, 0.0553, 0.0533, 0.05746, 0.04088, 0.0477, 0.05458], [5103205, 0.04154, 0.03996, 0.04148, 0.03817, 0.03681, 0.03419, 0.02718, 0.02918, 0.0298], [5103254, 0.11064, 0.10934, 0.0976, 0.08095, 0.06717, 0.05579, 0.04207, 0.0427, 0.04008], [5103304, 0.06511, 0.06121, 0.06194, 0.05954, 0.05594, 0.0505, 0.04383, 0.04579, 0.04466], [5103353, 0.10776, 0.09388, 0.09228, 0.08474, 0.0794, 0.06765, 0.0589, 0.06772, 0.07323], [5103361, 0.05961, 0.0618, 0.06021, 0.05186, 0.05, 0.04229, 0.03665, 0.04194, 0.04516], [5103379, 0.0725, 0.06642, 0.05707, 0.0396, 0.03018, 0.02576, 0.02233, 0.02342, 0.0237], [5103403, 0.04498, 0.04254, 0.04118, 0.03477, 0.03232, 0.03607, 0.0316, 0.03826, 0.03865], [5103437, 0.10018, 0.09872, 0.09569, 0.09029, 0.06457, 0.06298, 0.05902, 0.06697, 0.07367], [5103452, 0.07339, 0.07171, 0.07097, 0.06438, 0.06144, 0.05322, 0.04449, 0.0482, 0.05101], [5103502, 0.05067, 0.05471, 0.05194, 0.04806, 0.04494, 0.04305, 0.03562, 0.03918, 0.0433], [5103601, 0.0932, 0.09001, 0.09188, 0.08553, 0.09176, 0.0944, 0.08303, 0.08996, 0.09014], [5103700, 0.0431, 0.04381, 0.05523, 0.05333, 0.05509, 0.05362, 0.04425, 0.05109, 0.04876], [5103809, 0.05779, 0.05251, 0.0448, 0.03408, 0.02875, 0.03223, 0.03549, 0.04027, 0.04691], [5103858, 0.05813, 0.05841, 0.06026, 0.05497, 0.05428, 0.06229, 0.06407, 0.06708, 0.06837], [5103908, 0.11122, 0.12151, 0.11207, 0.09724, 0.08907, 0.08074, 0.07491, 0.07994, 0.08575], [5103957, 0.07747, 0.08172, 0.06814, 0.07669, 0.08435, 0.08539, 0.07964, 0.08743, 0.08729], [5104104, 0.06382, 0.06387, 0.0644, 0.05664, 0.05478, 0.05651, 0.05165, 0.05624, 0.05478], [5104203, 0.07159, 0.06805, 0.06698, 0.0652, 0.06302, 0.05773, 0.05303, 0.06409, 0.0697], [5104500, 0.09434, 0.09333, 0.07983, 0.07355, 0.04834, 0.03486, 0.02253, 0.02375, 0.02495], [5104526, 0.03434, 0.03088, 0.03439, 0.03245, 0.0364, 0.03327, 0.02987, 0.03131, 0.02835], [5104542, 0.06196, 0.07109, 0.06194, 0.0603, 0.05457, 0.04919, 0.05433, 0.0594, 0.05647], [5104559, 0.08424, 0.08754, 0.08497, 0.08579, 0.08316, 0.07819, 0.07549, 0.08477, 0.09116], [5104609, 0.07936, 0.08289, 0.07978, 0.07504, 0.06811, 0.06199, 0.05051, 0.05475, 0.05777], [5104807, 0.06606, 0.05818, 0.05341, 0.04951, 0.05707, 0.05552, 0.04475, 0.04952, 0.05716], [5104906, 0.12164, 0.11421, 0.11861, 0.10727, 0.09592, 0.08845, 0.08776, 0.09786, 0.10677], [5105002, 0.07083, 0.06939, 0.06666, 0.06409, 0.05789, 0.04897, 0.0439, 0.04789, 0.05121], [5105101, 0.04305, 0.04187, 0.04061, 0.03365, 0.03507, 0.03309, 0.02922, 0.03277, 0.0358], [5105150, 0.06112, 0.05522, 0.04283, 0.03677, 0.03695, 0.03364, 0.02481, 0.03236, 0.03664], [5105176, 0.07667, 0.07196, 0.05455, 0.03583, 0.02307, 0.02232, 0.01866, 0.02026, 0.02064], [5105200, 0.07634, 0.07514, 0.07275, 0.06767, 0.06754, 0.05712, 0.04848, 0.05163, 0.05439], [5105234, 0.07987, 0.08322, 0.07317, 0.07494, 0.0868, 0.08401, 0.07303, 0.0763, 0.07445], [5105259, 0.03253, 0.03282, 0.02882, 0.02753, 0.02742, 0.03395, 0.03029, 0.02878, 0.02723], [5105309, 0.11127, 0.11787, 0.12225, 0.12331, 0.13363, 0.12244, 0.11122, 0.12391, 0.12181], [5105507, 0.08994, 0.0837, 0.08629, 0.07646, 0.06721, 0.0605, 0.05376, 0.05808, 0.06221], [5105580, 0.07321, 0.08188, 0.08949, 0.09277, 0.09422, 0.08383, 0.08067, 0.09038, 0.09568], [5105606, 0.04281, 0.04183, 0.03363, 0.02721, 0.0252, 0.02412, 0.02137, 0.02263, 0.0218], [5105622, 0.07553, 0.07213, 0.06606, 0.06531, 0.06777, 0.06798, 0.06071, 0.06728, 0.06472], [5105903, 0.07666, 0.08064, 0.07995, 0.0806, 0.09312, 0.09238, 0.08464, 0.08028, 0.07944], [5106000, 0.09696, 0.09399, 0.09606, 0.07721, 0.07701, 0.07645, 0.06061, 0.07277, 0.07801], [5106109, 0.1436, 0.15056, 0.14079, 0.10449, 0.08835, 0.07943, 0.07007, 0.08448, 0.08768], [5106158, 0.08559, 0.08229, 0.07998, 0.06572, 0.05859, 0.05809, 0.05167, 0.06184, 0.07227], [5106174, 0.07505, 0.0781, 0.08021, 0.0775, 0.13598, 0.12297, 0.10834, 0.11673, 0.11587], [5106182, 0.1001, 0.09749, 0.10393, 0.09902, 0.09072, 0.07876, 0.06235, 0.06947, 0.07492], [5106190, 0.06537, 0.04901, 0.04711, 0.031, 0.03671, 0.03596, 0.02797, 0.04174, 0.04634], [5106208, 0.11548, 0.10027, 0.08886, 0.07606, 0.06559, 0.05295, 0.04414, 0.05361, 0.05498], [5106216, 0.0388, 0.03317, 0.03033, 0.0242, 0.03003, 0.03046, 0.0262, 0.03117, 0.03596], [5106224, 0.02534, 0.02303, 0.0244, 0.02494, 0.02922, 0.02648, 0.02243, 0.02446, 0.02298], [5106232, 0.08532, 0.07881, 0.07134, 0.05693, 0.04875, 0.04063, 0.03404, 0.04095, 0.04625], [5106240, 0.0481, 0.04511, 0.04101, 0.02998, 0.01859, 0.01685, 0.0141, 0.01797, 0.02153], [5106257, 0.03952, 0.03428, 0.03329, 0.02646, 0.02379, 0.02379, 0.02152, 0.02521, 0.02696], [5106265, 0.07908, 0.07499, 0.06516, 0.05895, 0.04674, 0.04338, 0.03824, 0.04123, 0.0417], [5106273, 0.06946, 0.06136, 0.04863, 0.04868, 0.03973, 0.03413, 0.03072, 0.03604, 0.03686], [5106281, 0.12654, 0.13797, 0.1332, 0.13288, 0.13028, 0.12906, 0.10209, 0.10936, 0.11495], [5106299, 0.06712, 0.06468, 0.07119, 0.06314, 0.0577, 0.05092, 0.04419, 0.04945, 0.05066], [5106307, 0.05828, 0.04854, 0.04464, 0.03739, 0.03452, 0.03079, 0.02735, 0.02988, 0.03191], [5106315, 0.08423, 0.07432, 0.08485, 0.09778, 0.09768, 0.10218, 0.09962, 0.09427, 0.08704], [5106372, 0.07695, 0.08127, 0.07851, 0.06876, 0.06596, 0.06153, 0.051, 0.05795, 0.06662], [5106422, 0.08583, 0.08483, 0.07993, 0.07478, 0.07157, 0.06906, 0.06116, 0.07024, 0.07323], [5106455, 0.10846, 0.11257, 0.12391, 0.10916, 0.09562, 0.09417, 0.08264, 0.10419, 0.1187], [5106505, 0.1222, 0.13125, 0.12269, 0.12203, 0.12835, 0.12579, 0.11302, 0.11613, 0.11349], [5106653, 0.06695, 0.0539, 0.06805, 0.0671, 0.07077, 0.06871, 0.05811, 0.06503, 0.06124], [5106703, 0.06194, 0.06189, 0.06799, 0.0699, 0.07756, 0.08427, 0.08439, 0.09806, 0.09377], [5106752, 0.05934, 0.06211, 0.0596, 0.05329, 0.04828, 0.03777, 0.03273, 0.03633, 0.04323], [5106778, 0.10162, 0.10054, 0.08917, 0.07417, 0.07436, 0.06949, 0.05552, 0.06307, 0.06981], [5106802, 0.06402, 0.05615, 0.04968, 0.03523, 0.02953, 0.02339, 0.01738, 0.02312, 0.02826], [5106828, 0.09958, 0.08892, 0.07685, 0.05956, 0.04861, 0.04332, 0.03645, 0.0429, 0.04657], [5106851, 0.16577, 0.18003, 0.17321, 0.15274, 0.11705, 0.08557, 0.07121, 0.07577, 0.07552], [5107008, 0.11106, 0.11231, 0.10443, 0.09044, 0.08865, 0.09902, 0.09994, 0.11737, 0.11477], [5107040, 0.04424, 0.04462, 0.03967, 0.03581, 0.04636, 0.04084, 0.03444, 0.03479, 0.03389], [5107065, 0.04552, 0.05006, 0.04738, 0.04352, 0.04354, 0.04673, 0.04674, 0.04689, 0.04656], [5107107, 0.0659, 0.04885, 0.04865, 0.0485, 0.04693, 0.04118, 0.03576, 0.04112, 0.0438], [5107156, 0.06279, 0.04884, 0.07529, 0.07733, 0.06727, 0.07166, 0.06772, 0.07619, 0.07262], [5107180, 0.09575, 0.09746, 0.09433, 0.07086, 0.05931, 0.06031, 0.05507, 0.06535, 0.07005], [5107198, 0.0602, 0.05099, 0.05808, 0.04814, 0.06034, 0.0557, 0.05073, 0.05987, 0.06478], [5107206, 0.0954, 0.08904, 0.07653, 0.07578, 0.06535, 0.06106, 0.05469, 0.05728, 0.06062], [5107248, 0.06566, 0.06344, 0.05242, 0.05062, 0.06055, 0.05751, 0.05768, 0.05457, 0.05087], [5107263, 0.08959, 0.08443, 0.08065, 0.08279, 0.1023, 0.10651, 0.07025, 0.08273, 0.08059], [5107297, 0.06496, 0.0661, 0.05598, 0.04756, 0.03403, 0.02437, 0.01994, 0.01865, 0.02243], [5107305, 0.06096, 0.0608, 0.06005, 0.04862, 0.05023, 0.04874, 0.04399, 0.04883, 0.04777], [5107354, 0.09207, 0.09843, 0.09693, 0.08117, 0.08493, 0.08924, 0.08382, 0.09093, 0.09228], [5107404, 0.09076, 0.08809, 0.07291, 0.06744, 0.07135, 0.06418, 0.05225, 0.05785, 0.05619], [5107578, 0.11138, 0.10774, 0.10047, 0.08789, 0.07654, 0.06203, 0.05049, 0.05823, 0.05775], [5107602, 0.04543, 0.04621, 0.04049, 0.03862, 0.03946, 0.04266, 0.03709, 0.04393, 0.04191], [5107701, 0.10993, 0.11531, 0.10932, 0.11142, 0.12154, 0.11377, 0.1025, 0.11071, 0.10918], [5107743, 0.08836, 0.09715, 0.08757, 0.05992, 0.05907, 0.05531, 0.04563, 0.04747, 0.04852], [5107750, 0.09793, 0.09266, 0.08224, 0.06339, 0.05468, 0.04335, 0.03744, 0.04188, 0.04464], [5107768, 0.0438, 0.04906, 0.04348, 0.04211, 0.04054, 0.03814, 0.02741, 0.0348, 0.03498], [5107776, 0.11273, 0.11554, 0.11227, 0.11635, 0.11778, 0.09649, 0.08601, 0.08794, 0.09231], [5107792, 0.0517, 0.04081, 0.05489, 0.04865, 0.05497, 0.05435, 0.04291, 0.05193, 0.05111], [5107800, 0.10522, 0.10431, 0.09352, 0.08935, 0.0802, 0.08812, 0.07572, 0.08453, 0.09361], [5107859, 0.06474, 0.06006, 0.05735, 0.04675, 0.03694, 0.03487, 0.02938, 0.03496, 0.03536], [5107875, 0.03941, 0.03691, 0.0379, 0.03613, 0.03189, 0.0255, 0.01882, 0.02346, 0.02452], [5107883, 0.10116, 0.10925, 0.10197, 0.09496, 0.12381, 0.11714, 0.1103, 0.1025, 0.09443], [5107909, 0.02803, 0.02651, 0.02555, 0.02154, 0.02148, 0.02216, 0.01866, 0.02275, 0.02196], [5107925, 0.02264, 0.02198, 0.02416, 0.02375, 0.0236, 0.02284, 0.01793, 0.02096, 0.02396], [5107941, 0.05445, 0.04425, 0.04964, 0.0416, 0.03889, 0.03596, 0.03162, 0.03723, 0.04125], [5107958, 0.02465, 0.02312, 0.02523, 0.02268, 0.02088, 0.01769, 0.01383, 0.01877, 0.02283], [5108006, 0.05377, 0.05264, 0.04714, 0.04679, 0.04974, 0.03922, 0.02933, 0.02962, 0.02552], [5108055, 0.08615, 0.09932, 0.09393, 0.08812, 0.06985, 0.0578, 0.04024, 0.05109, 0.05816], [5108105, 0.09535, 0.09205, 0.09024, 0.08129, 0.07333, 0.06445, 0.04573, 0.05099, 0.04945], [5108204, 0.07308, 0.07133, 0.06572, 0.05708, 0.06236, 0.05202, 0.05237, 0.05949, 0.0608], [5108303, 0.08766, 0.08765, 0.09716, 0.09347, 0.07641, 0.09208, 0.09362, 0.10716, 0.10507], [5108352, 0.09016, 0.07586, 0.08553, 0.07614, 0.06741, 0.06458, 0.05437, 0.06494, 0.07394], [5108402, 0.06398, 0.06714, 0.06287, 0.06288, 0.06367, 0.0662, 0.06017, 0.06295, 0.06106], [5108501, 0.03759, 0.03455, 0.03484, 0.03152, 0.03862, 0.03397, 0.02494, 0.0321, 0.03376], [5108600, 0.0532, 0.04862, 0.04758, 0.03591, 0.02843, 0.02171, 0.01721, 0.01887, 0.01982], [5108808, 0.07356, 0.0706, 0.07146, 0.06345, 0.05878, 0.0616, 0.05134, 0.05847, 0.06603], [5108857, 0.0652, 0.06623, 0.06437, 0.06384, 0.05951, 0.04986, 0.04057, 0.0451, 0.05372], [5108907, 0.04151, 0.03697, 0.04701, 0.04351, 0.04009, 0.03465, 0.02419, 0.02689, 0.02915], [5108956, 0.06762, 0.06204, 0.0581, 0.05109, 0.04874, 0.04671, 0.04184, 0.04624, 0.05035], [5200050, 0.05947, 0.06104, 0.05928, 0.05588, 0.10491, 0.11232, 0.11193, 0.10784, 0.10679], [5200100, 0.02972, 0.03215, 0.03431, 0.03826, 0.03952, 0.03594, 0.03268, 0.03753, 0.04182], [5200134, 0.06449, 0.06497, 0.05398, 0.0451, 0.04045, 0.03548, 0.03107, 0.03672, 0.03928], [5200159, 0.08667, 0.08692, 0.07587, 0.07458, 0.06864, 0.07112, 0.06041, 0.06836, 0.07435], [5200175, 0.10232, 0.09943, 0.09079, 0.08597, 0.09068, 0.08827, 0.08108, 0.09529, 0.09173], [5200209, 0.08659, 0.09268, 0.08731, 0.08535, 0.09659, 0.08921, 0.09676, 0.10765, 0.11056], [5200258, 0.07955, 0.08703, 0.07623, 0.07906, 0.09921, 0.09762, 0.08715, 0.08216, 0.0787], [5200308, 0.08175, 0.0875, 0.08383, 0.08296, 0.08805, 0.09583, 0.0882, 0.08436, 0.08216], [5200506, 0.07324, 0.07726, 0.076, 0.07711, 0.07339, 0.07531, 0.06967, 0.07503, 0.07389], [5200555, 0.05817, 0.05879, 0.0532, 0.0533, 0.0676, 0.07703, 0.07452, 0.07207, 0.07048], [5200605, 0.08772, 0.08147, 0.0828, 0.0766, 0.06774, 0.06311, 0.05155, 0.05762, 0.06399], [5200803, 0.1147, 0.12296, 0.11522, 0.10607, 0.09855, 0.08846, 0.08303, 0.08777, 0.09212], [5200829, 0.11172, 0.117, 0.17502, 0.17486, 0.15717, 0.12388, 0.10546, 0.10741, 0.1089], [5200852, 0.06657, 0.05574, 0.05897, 0.05193, 0.04553, 0.04788, 0.05498, 0.06035, 0.06158], [5200902, 0.08655, 0.09637, 0.09349, 0.09545, 0.09947, 0.10895, 0.1174, 0.116, 0.11558], [5201108, 0.04341, 0.04312, 0.04179, 0.03573, 0.02765, 0.0251, 0.0199, 0.02282, 0.02277], [5201207, 0.04898, 0.03477, 0.03533, 0.03229, 0.03641, 0.03606, 0.0322, 0.03534, 0.03416], [5201306, 0.07431, 0.07316, 0.0704, 0.07102, 0.08484, 0.07736, 0.06471, 0.0676, 0.06598], [5201405, 0.03902, 0.03244, 0.02895, 0.02423, 0.02015, 0.0189, 0.01656, 0.01957, 0.01982], [5201454, 0.07277, 0.05788, 0.04661, 0.03182, 0.05165, 0.07316, 0.07276, 0.09216, 0.08812], [5201504, 0.05664, 0.05615, 0.03802, 0.04209, 0.06227, 0.05717, 0.04574, 0.06049, 0.0579], [5201603, 0.08763, 0.08237, 0.06568, 0.07141, 0.078, 0.08034, 0.07013, 0.07516, 0.07652], [5201702, 0.06882, 0.0681, 0.06164, 0.06455, 0.12342, 0.12566, 0.10334, 0.09698, 0.09378], [5201801, 0.07356, 0.07157, 0.06819, 0.06641, 0.09503, 0.09104, 0.09206, 0.0887, 0.0853], [5202155, 0.08904, 0.08634, 0.08736, 0.09042, 0.10837, 0.10585, 0.08481, 0.08313, 0.078], [5202353, 0.10031, 0.09193, 0.08023, 0.07672, 0.06797, 0.06173, 0.05168, 0.05994, 0.08245], [5202502, 0.0805, 0.06802, 0.05728, 0.05042, 0.04115, 0.03622, 0.03433, 0.04174, 0.04362], [5202601, 0.09864, 0.09485, 0.08324, 0.07244, 0.07539, 0.08103, 0.07724, 0.08273, 0.08833], [5202809, 0.10543, 0.10276, 0.10284, 0.11338, 0.11147, 0.11052, 0.1055, 0.1237, 0.12037], [5203104, 0.12914, 0.10345, 0.09115, 0.07804, 0.08638, 0.07192, 0.05839, 0.05265, 0.05334], [5203203, 0.06725, 0.07984, 0.07666, 0.07758, 0.07829, 0.06784, 0.05857, 0.05663, 0.05505], [5203302, 0.04733, 0.0419, 0.03688, 0.02824, 0.04051, 0.04764, 0.0456, 0.04887, 0.04841], [5203401, 0.10043, 0.10466, 0.09857, 0.09795, 0.10938, 0.10677, 0.09942, 0.10339, 0.09908], [5203500, 0.04876, 0.05159, 0.05474, 0.05793, 0.0498, 0.04399, 0.03986, 0.04449, 0.04638], [5203559, 0.06227, 0.06582, 0.06476, 0.06219, 0.0833, 0.07452, 0.06089, 0.05747, 0.05534], [5203575, 0.10526, 0.10036, 0.09364, 0.09241, 0.10234, 0.09453, 0.08104, 0.08302, 0.07949], [5203609, 0.06736, 0.06485, 0.05615, 0.05582, 0.07131, 0.06887, 0.05941, 0.05553, 0.05168], [5203807, 0.08281, 0.0842, 0.07848, 0.07886, 0.07272, 0.0762, 0.06402, 0.07849, 0.07807], [5203906, 0.03172, 0.02767, 0.03391, 0.03126, 0.0302, 0.02799, 0.02622, 0.03279, 0.03479], [5203939, 0.08941, 0.07769, 0.07052, 0.06528, 0.07511, 0.07317, 0.06029, 0.0626, 0.06047], [5203962, 0.13214, 0.11926, 0.11285, 0.10616, 0.13278, 0.1275, 0.12667, 0.14621, 0.14395], [5204003, 0.12194, 0.13354, 0.12364, 0.11482, 0.09162, 0.09573, 0.09146, 0.10365, 0.10768], [5204102, 0.03728, 0.03985, 0.03467, 0.03597, 0.05499, 0.04822, 0.04157, 0.03995, 0.03808], [5204201, 0.09401, 0.08042, 0.07088, 0.07611, 0.12093, 0.15356, 0.13101, 0.12817, 0.12949], [5204250, 0.06798, 0.06203, 0.06095, 0.06058, 0.06379, 0.06221, 0.04425, 0.0452, 0.04602], [5204300, 0.03759, 0.02993, 0.02993, 0.02476, 0.02172, 0.01791, 0.01455, 0.01739, 0.01809], [5204409, 0.06437, 0.06553, 0.06072, 0.05194, 0.04885, 0.04462, 0.03643, 0.03999, 0.03994], [5204508, 0.04573, 0.03666, 0.02897, 0.02447, 0.02914, 0.03067, 0.02787, 0.03276, 0.03538], [5204557, 0.08192, 0.07594, 0.07699, 0.08406, 0.07588, 0.06065, 0.051, 0.06211, 0.06154], [5204607, 0.09296, 0.09691, 0.10584, 0.1055, 0.13087, 0.14515, 0.13085, 0.12524, 0.12043], [5204656, 0.12016, 0.12206, 0.13145, 0.14141, 0.1369, 0.11921, 0.09643, 0.10931, 0.11687], [5204706, 0.08199, 0.08626, 0.07804, 0.07813, 0.08766, 0.07953, 0.06946, 0.0738, 0.07127], [5204805, 0.0552, 0.04642, 0.03988, 0.02819, 0.02378, 0.03348, 0.03255, 0.03515, 0.03551], [5204854, 0.07316, 0.07719, 0.07278, 0.07605, 0.11532, 0.1193, 0.1117, 0.10428, 0.09905], [5204904, 0.11451, 0.11153, 0.10855, 0.10613, 0.09795, 0.09674, 0.08568, 0.08902, 0.09213], [5204953, 0.18992, 0.20146, 0.20103, 0.21482, 0.2436, 0.36072, 0.39514, 0.44863, 0.53211], [5205000, 0.07434, 0.0675, 0.05563, 0.05232, 0.0581, 0.05032, 0.04206, 0.04437, 0.04544], [5205059, 0.11017, 0.10385, 0.08896, 0.08163, 0.08476, 0.08776, 0.08006, 0.09158, 0.09053], [5205109, 0.03, 0.03007, 0.02861, 0.02628, 0.01989, 0.01857, 0.01608, 0.019, 0.02054], [5205208, 0.08208, 0.09163, 0.08077, 0.07725, 0.07578, 0.08436, 0.07909, 0.08391, 0.07833], [5205307, 0.13798, 0.12722, 0.10885, 0.09517, 0.07854, 0.0783, 0.07416, 0.09152, 0.10318], [5205406, 0.04863, 0.04219, 0.03948, 0.03014, 0.02758, 0.02913, 0.0246, 0.02905, 0.0341], [5205455, 0.05844, 0.04914, 0.05225, 0.04037, 0.03983, 0.03738, 0.03312, 0.04205, 0.04526], [5205471, 0.0281, 0.02957, 0.02329, 0.01683, 0.03041, 0.03251, 0.03098, 0.02899, 0.02769], [5205497, 0.06793, 0.07365, 0.06703, 0.06645, 0.07989, 0.08958, 0.08852, 0.08308, 0.08019], [5205513, 0.10235, 0.10572, 0.09966, 0.09916, 0.12496, 0.13099, 0.12129, 0.11656, 0.11319], [5205521, 0.12392, 0.1291, 0.12813, 0.12994, 0.1312, 0.13954, 0.11827, 0.13274, 0.13208], [5205703, 0.06575, 0.06602, 0.07059, 0.0705, 0.07518, 0.0753, 0.06489, 0.07118, 0.06921], [5205802, 0.07748, 0.09077, 0.0936, 0.09271, 0.10112, 0.10109, 0.09253, 0.10001, 0.09685], [5205901, 0.07231, 0.07479, 0.0628, 0.04769, 0.04072, 0.03238, 0.02828, 0.03617, 0.03905], [5206206, 0.07161, 0.07439, 0.06788, 0.06681, 0.07115, 0.06773, 0.05704, 0.05986, 0.05703], [5206305, 0.08886, 0.08245, 0.08005, 0.077, 0.09508, 0.07278, 0.04855, 0.06343, 0.07157], [5206404, 0.08267, 0.07889, 0.072, 0.06401, 0.06109, 0.05703, 0.04614, 0.05275, 0.05736], [5206503, 0.09705, 0.10271, 0.10039, 0.10191, 0.10427, 0.10457, 0.09065, 0.10513, 0.10411], [5206602, 0.04252, 0.04232, 0.04579, 0.04593, 0.03361, 0.02926, 0.02768, 0.03736, 0.04043], [5206701, 0.15558, 0.16287, 0.15657, 0.15855, 0.17793, 0.16471, 0.15282, 0.15336, 0.15082], [5206800, 0.07842, 0.08628, 0.08061, 0.08428, 0.09676, 0.09511, 0.08237, 0.08601, 0.08458], [5206909, 0.05899, 0.06406, 0.06256, 0.05211, 0.05438, 0.05683, 0.04441, 0.04585, 0.04967], [5207105, 0.07783, 0.07112, 0.07583, 0.07502, 0.07931, 0.07034, 0.0624, 0.06858, 0.07388], [5207253, 0.0776, 0.08137, 0.07677, 0.07928, 0.0911, 0.10043, 0.08468, 0.08942, 0.0874], [5207352, 0.05865, 0.05844, 0.06293, 0.06245, 0.06511, 0.05741, 0.05218, 0.0602, 0.06036], [5207402, 0.04167, 0.04635, 0.04175, 0.04086, 0.07522, 0.07722, 0.07016, 0.06593, 0.06338], [5207501, 0.07398, 0.06875, 0.06232, 0.06298, 0.07902, 0.08095, 0.06565, 0.06281, 0.06025], [5207535, 0.10405, 0.11501, 0.10951, 0.11183, 0.10926, 0.09524, 0.07967, 0.07923, 0.07615], [5207600, 0.0859, 0.0787, 0.07426, 0.0702, 0.10807, 0.11814, 0.11939, 0.12102, 0.12192], [5207808, 0.07009, 0.07221, 0.06606, 0.06579, 0.05858, 0.04927, 0.04078, 0.04365, 0.04727], [5207907, 0.11415, 0.11088, 0.10618, 0.10077, 0.09854, 0.09099, 0.07791, 0.08227, 0.08401], [5208004, 0.0724, 0.07469, 0.0682, 0.06847, 0.06497, 0.06092, 0.05697, 0.0642, 0.06151], [5208103, 0.11872, 0.1251, 0.12421, 0.13136, 0.12914, 0.1378, 0.12994, 0.14645, 0.14592], [5208152, 0.05952, 0.05964, 0.05486, 0.05267, 0.0458, 0.04317, 0.03798, 0.04278, 0.04206], [5208301, 0.17023, 0.17905, 0.16614, 0.16617, 0.18178, 0.20248, 0.19192, 0.18774, 0.18677], [5208400, 0.05645, 0.05711, 0.05796, 0.0678, 0.07767, 0.09342, 0.09153, 0.09881, 0.09673], [5208509, 0.05117, 0.05091, 0.04433, 0.03639, 0.03711, 0.04001, 0.03554, 0.04089, 0.04319], [5208608, 0.04221, 0.0424, 0.03994, 0.03538, 0.03419, 0.03237, 0.02971, 0.03467, 0.03376], [5208707, 0.02098, 0.01942, 0.0202, 0.01836, 0.0168, 0.01833, 0.0162, 0.02024, 0.02327], [5208806, 0.0446, 0.04603, 0.05397, 0.05389, 0.05492, 0.05379, 0.04626, 0.05279, 0.05013], [5208905, 0.07998, 0.07365, 0.07247, 0.07038, 0.0614, 0.06109, 0.05202, 0.06251, 0.07196], [5209101, 0.04325, 0.0351, 0.03713, 0.03523, 0.03314, 0.03443, 0.03042, 0.03427, 0.0362], [5209150, 0.06374, 0.05981, 0.05546, 0.0493, 0.0442, 0.03479, 0.02645, 0.0329, 0.03341], [5209200, 0.0762, 0.08322, 0.07915, 0.07537, 0.10268, 0.12082, 0.11141, 0.10748, 0.10679], [5209291, 0.1093, 0.11348, 0.1164, 0.11846, 0.13327, 0.12837, 0.11623, 0.12916, 0.12966], [5209408, 0.15046, 0.15608, 0.15247, 0.15141, 0.15826, 0.14365, 0.13537, 0.13547, 0.14312], [5209457, 0.15759, 0.16491, 0.14527, 0.13473, 0.13694, 0.14687, 0.14493, 0.15141, 0.163], [5209606, 0.10205, 0.10651, 0.10641, 0.10604, 0.12483, 0.13543, 0.12406, 0.12028, 0.11571], [5209705, 0.05238, 0.05528, 0.04974, 0.04682, 0.04557, 0.04371, 0.03902, 0.04045, 0.03861], [5209804, 0.11208, 0.10086, 0.09116, 0.0972, 0.08048, 0.08255, 0.07043, 0.07611, 0.08261], [5209903, 0.13724, 0.14716, 0.13492, 0.13446, 0.13697, 0.12536, 0.11551, 0.11703, 0.11446], [5209937, 0.06489, 0.07339, 0.06841, 0.0691, 0.06571, 0.0725, 0.06652, 0.07089, 0.06996], [5209952, 0.07301, 0.06816, 0.0617, 0.06018, 0.06863, 0.06001, 0.05035, 0.05213, 0.05106], [5210000, 0.05071, 0.05559, 0.04967, 0.04569, 0.04513, 0.04512, 0.03715, 0.04369, 0.04445], [5210109, 0.07063, 0.06765, 0.06298, 0.06125, 0.06023, 0.0614, 0.05555, 0.05855, 0.06099], [5210158, 0.10512, 0.10971, 0.10646, 0.10971, 0.13569, 0.11511, 0.10266, 0.1158, 0.11272], [5210208, 0.04054, 0.02729, 0.02619, 0.02188, 0.01873, 0.01879, 0.01611, 0.0186, 0.01986], [5210307, 0.10075, 0.08362, 0.07595, 0.06619, 0.06186, 0.05471, 0.045, 0.05456, 0.06133], [5210406, 0.05785, 0.0589, 0.05579, 0.05643, 0.06985, 0.073, 0.06406, 0.06036, 0.05649], [5210562, 0.08153, 0.07402, 0.06698, 0.05724, 0.06131, 0.07027, 0.06501, 0.06382, 0.06106], [5210604, 0.08296, 0.07286, 0.0738, 0.07529, 0.08248, 0.07592, 0.07141, 0.07242, 0.07118], [5210802, 0.05822, 0.06274, 0.05503, 0.05653, 0.05804, 0.04886, 0.05133, 0.05497, 0.06006], [5210901, 0.06408, 0.06883, 0.06422, 0.06097, 0.05094, 0.04167, 0.03303, 0.03535, 0.03208], [5211008, 0.10793, 0.10546, 0.10375, 0.10748, 0.12231, 0.14823, 0.13608, 0.15859, 0.16507], [5211206, 0.0796, 0.08216, 0.06986, 0.06723, 0.06861, 0.06598, 0.06454, 0.06378, 0.06458], [5211305, 0.04358, 0.04707, 0.04538, 0.04533, 0.0523, 0.0472, 0.03497, 0.03747, 0.0368], [5211404, 0.04577, 0.04549, 0.04935, 0.04584, 0.04446, 0.04969, 0.04498, 0.05078, 0.05609], [5211503, 0.03918, 0.03316, 0.03603, 0.03526, 0.03685, 0.03832, 0.03484, 0.03957, 0.03834], [5211602, 0.07733, 0.0754, 0.08074, 0.07877, 0.09554, 0.10349, 0.1038, 0.0994, 0.09586], [5211701, 0.07074, 0.07467, 0.07127, 0.07249, 0.08219, 0.08085, 0.07374, 0.07867, 0.07765], [5211800, 0.06739, 0.06439, 0.06155, 0.05828, 0.05695, 0.0635, 0.05836, 0.05939, 0.05729], [5211909, 0.03697, 0.03401, 0.03205, 0.0265, 0.02396, 0.0228, 0.01908, 0.02293, 0.02498], [5212006, 0.09067, 0.09328, 0.08664, 0.08925, 0.10519, 0.09834, 0.09135, 0.0972, 0.09638], [5212055, 0.09954, 0.1042, 0.09247, 0.10285, 0.12964, 0.13137, 0.12329, 0.11971, 0.12054], [5212105, 0.04638, 0.0419, 0.03544, 0.03277, 0.02223, 0.01791, 0.0153, 0.01756, 0.01793], [5212204, 0.07791, 0.07087, 0.06885, 0.06811, 0.0736, 0.06408, 0.05038, 0.0596, 0.06154], [5212253, 0.08715, 0.0697, 0.05714, 0.05947, 0.10134, 0.09646, 0.07368, 0.07341, 0.07022], [5212303, 0.08422, 0.08601, 0.08559, 0.07786, 0.09572, 0.09577, 0.08016, 0.09476, 0.09096], [5212501, 0.07147, 0.07481, 0.07042, 0.0691, 0.06845, 0.06559, 0.05533, 0.0588, 0.05626], [5212600, 0.10645, 0.11262, 0.10567, 0.10526, 0.12377, 0.11378, 0.09459, 0.0986, 0.09712], [5212709, 0.1406, 0.149, 0.13593, 0.13533, 0.14484, 0.13825, 0.12418, 0.12422, 0.1189], [5212808, 0.08709, 0.09266, 0.08633, 0.07781, 0.07245, 0.08045, 0.07177, 0.07829, 0.08458], [5212907, 0.06362, 0.06273, 0.0646, 0.06013, 0.08491, 0.08367, 0.0814, 0.08044, 0.07689], [5212956, 0.09956, 0.10166, 0.084, 0.0881, 0.13987, 0.13743, 0.12549, 0.12154, 0.1215], [5213004, 0.06449, 0.06642, 0.06074, 0.05323, 0.07332, 0.07528, 0.06655, 0.06394, 0.06233], [5213053, 0.14799, 0.1513, 0.13149, 0.12371, 0.1151, 0.10375, 0.09241, 0.10801, 0.11883], [5213087, 0.07756, 0.06207, 0.05984, 0.05829, 0.05968, 0.06974, 0.06171, 0.06779, 0.07325], [5213103, 0.04438, 0.04229, 0.04282, 0.03721, 0.03775, 0.0393, 0.03473, 0.04196, 0.04062], [5213400, 0.04931, 0.05916, 0.09448, 0.10392, 0.13325, 0.13359, 0.11903, 0.11459, 0.11761], [5213509, 0.14842, 0.14315, 0.14617, 0.13382, 0.14284, 0.1324, 0.12154, 0.12863, 0.12696], [5213707, 0.06163, 0.05257, 0.0445, 0.0339, 0.02853, 0.03584, 0.02868, 0.03243, 0.0326], [5213756, 0.04401, 0.03871, 0.0371, 0.03583, 0.04074, 0.03393, 0.02523, 0.02523, 0.02418], [5213772, 0.15723, 0.16988, 0.1607, 0.14784, 0.18439, 0.18971, 0.17191, 0.16811, 0.16549], [5213806, 0.03779, 0.03079, 0.03825, 0.0382, 0.03561, 0.02988, 0.02571, 0.02911, 0.03045], [5213855, 0.09719, 0.10597, 0.10004, 0.09322, 0.1157, 0.11793, 0.11922, 0.11604, 0.11502], [5213905, 0.08077, 0.07831, 0.06477, 0.06999, 0.06213, 0.06123, 0.05781, 0.06158, 0.06335], [5214002, 0.07389, 0.06725, 0.06209, 0.06245, 0.07398, 0.08424, 0.07504, 0.07335, 0.07085], [5214051, 0.10129, 0.11694, 0.10957, 0.10387, 0.0938, 0.10817, 0.09617, 0.11033, 0.12225], [5214101, 0.09572, 0.09765, 0.10518, 0.10176, 0.09293, 0.09544, 0.08735, 0.09139, 0.09229], [5214408, 0.09049, 0.09072, 0.06689, 0.05453, 0.04588, 0.04755, 0.04124, 0.04341, 0.04267], [5214507, 0.05777, 0.06494, 0.05724, 0.04728, 0.04503, 0.04342, 0.03742, 0.03978, 0.0409], [5214606, 0.07858, 0.077, 0.07811, 0.0695, 0.05972, 0.0485, 0.04087, 0.04355, 0.04315], [5214705, 0.08326, 0.07915, 0.07422, 0.06213, 0.05605, 0.05797, 0.05315, 0.05558, 0.0652], [5214804, 0.05151, 0.05074, 0.05044, 0.05059, 0.04397, 0.0382, 0.03394, 0.0405, 0.04114], [5214838, 0.09441, 0.0883, 0.08749, 0.07509, 0.06581, 0.06974, 0.06411, 0.06443, 0.06866], [5214861, 0.08757, 0.0974, 0.10472, 0.10634, 0.11384, 0.11244, 0.10363, 0.10885, 0.11063], [5214879, 0.09262, 0.08382, 0.06963, 0.06163, 0.05235, 0.05884, 0.04882, 0.05112, 0.05206], [5214903, 0.1347, 0.13909, 0.12795, 0.12453, 0.12482, 0.13605, 0.13388, 0.14493, 0.1437], [5215009, 0.06677, 0.06207, 0.03745, 0.03071, 0.05996, 0.08633, 0.095, 0.09164, 0.0881], [5215207, 0.11727, 0.10908, 0.0889, 0.07353, 0.08421, 0.08409, 0.0769, 0.08125, 0.08036], [5215231, 0.06885, 0.05634, 0.05347, 0.05419, 0.05201, 0.04282, 0.03682, 0.03852, 0.04012], [5215256, 0.13297, 0.14087, 0.13634, 0.12618, 0.11329, 0.12036, 0.11346, 0.11686, 0.1128], [5215306, 0.02642, 0.02483, 0.02491, 0.02278, 0.03161, 0.03309, 0.03093, 0.03313, 0.03859], [5215405, 0.08099, 0.08393, 0.08242, 0.07864, 0.08084, 0.07743, 0.07209, 0.0787, 0.08698], [5215504, 0.05023, 0.04737, 0.04184, 0.04534, 0.05773, 0.05237, 0.0441, 0.04276, 0.04191], [5215603, 0.07668, 0.07183, 0.0628, 0.0553, 0.05136, 0.05092, 0.04815, 0.05251, 0.05124], [5215652, 0.07926, 0.0702, 0.06773, 0.06872, 0.08196, 0.09277, 0.09007, 0.08365, 0.07723], [5215702, 0.05005, 0.0488, 0.04209, 0.03411, 0.03025, 0.02698, 0.01927, 0.0214, 0.02066], [5215801, 0.0644, 0.06841, 0.06581, 0.04628, 0.0429, 0.03571, 0.03486, 0.04032, 0.0424], [5215900, 0.07412, 0.06914, 0.06692, 0.06687, 0.07008, 0.07412, 0.07364, 0.07956, 0.07602], [5216007, 0.06184, 0.05755, 0.04996, 0.04196, 0.03909, 0.02817, 0.03098, 0.03995, 0.0471], [5216304, 0.05118, 0.03875, 0.03986, 0.03668, 0.04496, 0.04372, 0.04107, 0.04507, 0.0451], [5216403, 0.05924, 0.06168, 0.06786, 0.06913, 0.07432, 0.05648, 0.04851, 0.05146, 0.05597], [5216452, 0.07189, 0.06893, 0.06538, 0.066, 0.05742, 0.05745, 0.04506, 0.0525, 0.0526], [5216809, 0.06373, 0.0623, 0.05632, 0.04816, 0.03593, 0.03621, 0.03083, 0.03284, 0.0332], [5216908, 0.11543, 0.09669, 0.10138, 0.09996, 0.1036, 0.12057, 0.10342, 0.1258, 0.13958], [5217104, 0.0531, 0.05362, 0.04945, 0.04007, 0.0315, 0.02959, 0.02463, 0.03015, 0.0348], [5217203, 0.08459, 0.08827, 0.08554, 0.08466, 0.0822, 0.08323, 0.07713, 0.08051, 0.08011], [5217302, 0.07723, 0.08048, 0.0711, 0.06243, 0.05529, 0.05079, 0.04292, 0.05043, 0.05452], [5217401, 0.04518, 0.0491, 0.04472, 0.04439, 0.04828, 0.04849, 0.04279, 0.04564, 0.04397], [5217609, 0.08475, 0.08923, 0.0829, 0.08135, 0.07292, 0.06941, 0.06447, 0.06906, 0.06998], [5217708, 0.06209, 0.06232, 0.06602, 0.06469, 0.05731, 0.05305, 0.04686, 0.05101, 0.05419], [5218003, 0.08497, 0.08634, 0.08188, 0.06969, 0.0567, 0.05229, 0.0467, 0.05262, 0.05858], [5218052, 0.06262, 0.06429, 0.05095, 0.04118, 0.06333, 0.06266, 0.05256, 0.04935, 0.0475], [5218102, 0.06576, 0.05425, 0.05405, 0.0536, 0.06281, 0.06525, 0.06158, 0.05594, 0.05456], [5218300, 0.10622, 0.10187, 0.10236, 0.09289, 0.0834, 0.07849, 0.07504, 0.08227, 0.08412], [5218391, 0.07116, 0.07758, 0.07367, 0.07332, 0.06935, 0.07401, 0.07229, 0.09054, 0.08845], [5218508, 0.05391, 0.04153, 0.04202, 0.03733, 0.03175, 0.02497, 0.01742, 0.02359, 0.02529], [5218607, 0.05643, 0.05569, 0.05826, 0.05244, 0.05165, 0.0458, 0.03728, 0.03958, 0.04197], [5218706, 0.0533, 0.04656, 0.0449, 0.04846, 0.04453, 0.04829, 0.03603, 0.04193, 0.04429], [5218789, 0.05075, 0.05721, 0.04859, 0.05057, 0.04061, 0.04644, 0.04095, 0.04618, 0.04547], [5218805, 0.03488, 0.03421, 0.03612, 0.03223, 0.0288, 0.02616, 0.02225, 0.0257, 0.02779], [5218904, 0.06968, 0.07105, 0.06268, 0.05248, 0.04191, 0.03654, 0.03269, 0.03991, 0.04392], [5219001, 0.07713, 0.07036, 0.05975, 0.0575, 0.05283, 0.0509, 0.03915, 0.04049, 0.03879], [5219100, 0.07519, 0.0677, 0.05832, 0.05801, 0.07477, 0.07371, 0.05884, 0.05577, 0.05402], [5219209, 0.05407, 0.03976, 0.03942, 0.03191, 0.0397, 0.05394, 0.05604, 0.06563, 0.06722], [5219258, 0.06387, 0.05512, 0.04775, 0.03826, 0.03786, 0.05155, 0.05257, 0.04798, 0.04637], [5219308, 0.04803, 0.04622, 0.04, 0.03786, 0.03905, 0.04191, 0.0398, 0.04571, 0.04484], [5219357, 0.08364, 0.0685, 0.0683, 0.07122, 0.07623, 0.09782, 0.09294, 0.09567, 0.09343], [5219407, 0.05724, 0.04395, 0.05748, 0.058, 0.0606, 0.04887, 0.04328, 0.04857, 0.04599], [5219456, 0.113, 0.09922, 0.10237, 0.08819, 0.07294, 0.06665, 0.06491, 0.08077, 0.0894], [5219506, 0.08998, 0.08766, 0.1047, 0.10662, 0.1249, 0.14992, 0.13454, 0.13144, 0.125], [5219605, 0.10579, 0.09876, 0.08862, 0.07445, 0.07089, 0.07228, 0.06975, 0.08323, 0.09012], [5219704, 0.13725, 0.13949, 0.13396, 0.15112, 0.17626, 0.18016, 0.16434, 0.16083, 0.16182], [5219712, 0.07817, 0.08335, 0.07382, 0.05751, 0.04979, 0.04679, 0.04045, 0.04903, 0.05096], [5219738, 0.05292, 0.05027, 0.04994, 0.05072, 0.08813, 0.09701, 0.08435, 0.08137, 0.07948], [5219753, 0.09445, 0.10039, 0.09023, 0.09075, 0.09763, 0.09225, 0.0818, 0.08755, 0.08406], [5219803, 0.11418, 0.11066, 0.10661, 0.10411, 0.11728, 0.11477, 0.10202, 0.10891, 0.11116], [5219902, 0.08789, 0.08802, 0.09147, 0.0938, 0.09299, 0.07875, 0.07296, 0.07611, 0.07566], [5220009, 0.08939, 0.0898, 0.08509, 0.08002, 0.09373, 0.09726, 0.07955, 0.07568, 0.07252], [5220058, 0.08187, 0.08934, 0.08641, 0.0853, 0.06723, 0.09245, 0.08182, 0.08773, 0.09299], [5220108, 0.04719, 0.04682, 0.04475, 0.04124, 0.03723, 0.03708, 0.03383, 0.03938, 0.04039], [5220157, 0.09562, 0.09002, 0.09016, 0.08575, 0.07809, 0.06879, 0.06329, 0.07517, 0.07619], [5220207, 0.10556, 0.12119, 0.11092, 0.09108, 0.08178, 0.08424, 0.0758, 0.08248, 0.08595], [5220264, 0.03329, 0.0414, 0.05794, 0.05233, 0.07852, 0.06796, 0.05497, 0.06296, 0.057], [5220280, 0.09786, 0.10058, 0.0936, 0.0939, 0.10097, 0.08993, 0.07122, 0.07757, 0.08186], [5220405, 0.04715, 0.05212, 0.04825, 0.04761, 0.05991, 0.06681, 0.05938, 0.05518, 0.05413], [5220454, 0.05163, 0.05507, 0.05164, 0.04913, 0.04475, 0.04642, 0.04007, 0.04595, 0.04325], [5220504, 0.05099, 0.05549, 0.05266, 0.04638, 0.04073, 0.04263, 0.03511, 0.04062, 0.04418], [5220603, 0.05962, 0.05874, 0.0559, 0.0561, 0.05919, 0.05682, 0.05281, 0.05568, 0.05535], [5220686, 0.14484, 0.14565, 0.14135, 0.14381, 0.14178, 0.14769, 0.14134, 0.15118, 0.14576], [5220702, 0.15607, 0.16475, 0.15387, 0.12466, 0.12442, 0.11723, 0.10907, 0.12529, 0.13586], [5221007, 0.07442, 0.07361, 0.06067, 0.05241, 0.0651, 0.07125, 0.06886, 0.06845, 0.06703], [5221080, 0.1469, 0.1433, 0.12462, 0.11903, 0.14422, 0.15925, 0.15385, 0.15352, 0.15715], [5221197, 0.08749, 0.09061, 0.07985, 0.07866, 0.09261, 0.08826, 0.07559, 0.07659, 0.0735], [5221304, 0.06045, 0.06008, 0.06004, 0.05761, 0.05655, 0.06063, 0.05224, 0.06396, 0.06537], [5221403, 0.05901, 0.06325, 0.05869, 0.04598, 0.03676, 0.03871, 0.03305, 0.03989, 0.04738], [5221452, 0.12637, 0.12479, 0.12325, 0.10849, 0.10893, 0.10483, 0.07971, 0.08205, 0.0835], [5221502, 0.10067, 0.10068, 0.09203, 0.08745, 0.07534, 0.07166, 0.05959, 0.06946, 0.07556], [5221551, 0.07809, 0.08221, 0.0783, 0.07794, 0.08277, 0.07315, 0.07139, 0.07642, 0.07399], [5221577, 0.12559, 0.13054, 0.11537, 0.11493, 0.10976, 0.11402, 0.10617, 0.11338, 0.11311], [5221601, 0.05266, 0.0412, 0.03987, 0.03765, 0.03381, 0.03111, 0.02554, 0.02948, 0.0287], [5221700, 0.0987, 0.0898, 0.07315, 0.05911, 0.05058, 0.07442, 0.07426, 0.08511, 0.08583], [5221809, 0.03679, 0.02918, 0.0295, 0.03107, 0.02695, 0.02242, 0.01823, 0.02642, 0.03927], [5221858, 0.05873, 0.05306, 0.0518, 0.04864, 0.04256, 0.03975, 0.03557, 0.03967, 0.04291], [5221908, 0.07214, 0.07474, 0.06846, 0.06871, 0.07365, 0.06578, 0.0567, 0.06175, 0.06055], [5222005, 0.0533, 0.05598, 0.05314, 0.04481, 0.03612, 0.0259, 0.02049, 0.02805, 0.0257], [5222054, 0.0745, 0.06792, 0.06511, 0.06276, 0.09396, 0.09999, 0.09253, 0.0887, 0.07809], [5222203, 0.11113, 0.11246, 0.10337, 0.10312, 0.11586, 0.09741, 0.08005, 0.08745, 0.0834], [5222302, 0.10275, 0.11504, 0.10649, 0.10488, 0.10861, 0.10142, 0.08538, 0.09113, 0.08904], [5300108, 0.03343, 0.03033, 0.03224, 0.02931, 0.02606, 0.02438, 0.02212, 0.02747, 0.0294]];\n",
       "\n",
       "        // Define the dt_args\n",
       "        let dt_args = {\"layout\": {\"topStart\": \"pageLength\", \"topEnd\": \"search\", \"bottomStart\": \"info\", \"bottomEnd\": \"paging\"}, \"order\": [], \"warn_on_dom\": true, \"fnInfoCallback\": function (oSettings, iStart, iEnd, iMax, iTotal, sPre) { return sPre + ' (<a href=\"https://mwouts.github.io/itables/downsampling.html\">downsampled</a> from 5,570x10 to 819x10 as maxBytes=64KB)'; }};\n",
       "        dt_args[\"data\"] = data;\n",
       "\n",
       "        \n",
       "        new DataTable(table, dt_args);\n",
       "    });\n",
       "</script>\n"
      ],
      "text/plain": [
       "<IPython.core.display.HTML object>"
      ]
     },
     "metadata": {},
     "output_type": "display_data"
    }
   ],
   "source": [
    "# Merge the tables\n",
    "social_info_df = pd.merge(vis_pbf_df, complete_population_estimate, how='inner', left_on=PRIMARY_KEY, right_on=f\"AUX_{PRIMARY_KEY}\")\n",
    "\n",
    "# Calculate the percentage of families in the PBF program\n",
    "for year in range(2013, 2022):\n",
    "    social_info_df[f\"PERCENTUAL_FAMILIAS_PBF_{year}\"] = (\n",
    "        social_info_df[year] / social_info_df[f\"POP_ESTIMATE_{year}\"]\n",
    "    ).round(5)\n",
    "\n",
    "# Drop columns and rename\n",
    "remove_columns = [f\"AUX_{PRIMARY_KEY}\", f\"{PRIMARY_KEY}_x\"] + [f\"POP_ESTIMATE_{year}\" for year in range(2013, 2022)] + [year for year in range(2013, 2022)]\n",
    "social_info_df.drop(remove_columns, axis=1, inplace=True)\n",
    "social_info_df.rename(columns={f\"{PRIMARY_KEY}_y\": PRIMARY_KEY}, inplace=True)"
   ]
  },
  {
   "cell_type": "code",
   "execution_count": 97,
   "metadata": {},
   "outputs": [
    {
     "name": "stdout",
     "output_type": "stream",
     "text": [
      "<class 'pandas.core.frame.DataFrame'>\n",
      "RangeIndex: 5570 entries, 0 to 5569\n",
      "Data columns (total 10 columns):\n",
      " #   Column                        Non-Null Count  Dtype  \n",
      "---  ------                        --------------  -----  \n",
      " 0   CO_MUNICIPIO                  5570 non-null   int64  \n",
      " 1   PERCENTUAL_FAMILIAS_PBF_2013  5569 non-null   float64\n",
      " 2   PERCENTUAL_FAMILIAS_PBF_2014  5570 non-null   float64\n",
      " 3   PERCENTUAL_FAMILIAS_PBF_2015  5570 non-null   float64\n",
      " 4   PERCENTUAL_FAMILIAS_PBF_2016  5570 non-null   float64\n",
      " 5   PERCENTUAL_FAMILIAS_PBF_2017  5570 non-null   float64\n",
      " 6   PERCENTUAL_FAMILIAS_PBF_2018  5570 non-null   float64\n",
      " 7   PERCENTUAL_FAMILIAS_PBF_2019  5570 non-null   float64\n",
      " 8   PERCENTUAL_FAMILIAS_PBF_2020  5570 non-null   float64\n",
      " 9   PERCENTUAL_FAMILIAS_PBF_2021  5570 non-null   float64\n",
      "dtypes: float64(9), int64(1)\n",
      "memory usage: 435.3 KB\n"
     ]
    }
   ],
   "source": [
    "# Save data\n",
    "social_info_df.info()\n",
    "social_info_df.to_csv(F'{INTERIM_DATA_DIR}/social_pbf_data.csv', sep=';', index=False)"
   ]
  },
  {
   "cell_type": "markdown",
   "metadata": {},
   "source": [
    "# Dados Externos"
   ]
  },
  {
   "cell_type": "code",
   "execution_count": 98,
   "metadata": {},
   "outputs": [],
   "source": [
    "# Merge the extracted data in a single table\n",
    "external_data = pd.merge(complete_counties_pib, social_info_df, how='inner', on=PRIMARY_KEY)"
   ]
  },
  {
   "cell_type": "code",
   "execution_count": 99,
   "metadata": {},
   "outputs": [],
   "source": [
    "# Save data\n",
    "external_data.to_csv(F'{INTERIM_DATA_DIR}/external_data.csv', sep=';', index=False)"
   ]
  }
 ],
 "metadata": {
  "kernelspec": {
   "display_name": ".venv",
   "language": "python",
   "name": "python3"
  },
  "language_info": {
   "codemirror_mode": {
    "name": "ipython",
    "version": 3
   },
   "file_extension": ".py",
   "mimetype": "text/x-python",
   "name": "python",
   "nbconvert_exporter": "python",
   "pygments_lexer": "ipython3",
   "version": "3.10.9"
  }
 },
 "nbformat": 4,
 "nbformat_minor": 2
}
