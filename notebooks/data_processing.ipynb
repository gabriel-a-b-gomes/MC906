{
 "cells": [
  {
   "cell_type": "code",
   "execution_count": 80,
   "metadata": {},
   "outputs": [],
   "source": [
    "import os\n",
    "import pandas as pd\n",
    "import numpy as np\n",
    "\n",
    "from itables import show"
   ]
  },
  {
   "cell_type": "markdown",
   "metadata": {},
   "source": [
    "# Dados do INEP\n"
   ]
  },
  {
   "cell_type": "markdown",
   "metadata": {},
   "source": [
    "_O conceito técnico de abandono é diferente de evasão. Abandono quer dizer que o aluno deixa a escola num ano mas retorna no ano seguinte. **Evasão significa que o aluno sai da escola e não volta mais para o sistema.**_\n"
   ]
  },
  {
   "cell_type": "code",
   "execution_count": 81,
   "metadata": {},
   "outputs": [],
   "source": [
    "# Constants\n",
    "INTERIM_DATA_DIR = '../data/interim'\n",
    "PROCESSED_DATA_DIR = '../data/processed'\n",
    "PRIMARY_KEY = 'CO_MUNICIPIO'\n",
    "\n",
    "COMMOM_COLUMNS = [\n",
    "    \"NU_ANO_CENSO\",\n",
    "    \"NO_REGIAO\",\n",
    "    \"SG_UF\",\n",
    "    \"CO_MUNICIPIO\",\n",
    "    \"NO_MUNICIPIO\",\n",
    "    \"NO_CATEGORIA\",\n",
    "    \"NO_DEPENDENCIA\"\n",
    "]\n",
    "DROP_COLUMNS = [\n",
    "    \"NU_ANO_CENSO\",\n",
    "    \"NO_REGIAO\",\n",
    "    \"SG_UF\",\n",
    "    \"NO_MUNICIPIO\",\n",
    "]\n",
    "MERGE_COLUMNS = [\n",
    "    \"CO_MUNICIPIO\",\n",
    "    \"NO_CATEGORIA\",\n",
    "    \"NO_DEPENDENCIA\"\n",
    "]"
   ]
  },
  {
   "cell_type": "code",
   "execution_count": 82,
   "metadata": {},
   "outputs": [],
   "source": [
    "OBJECT_COLUMNS = [*COMMOM_COLUMNS, \"NO_UF\"] \n",
    "def _cast_columns_to_float(df):\n",
    "    columns_to_convert = df.select_dtypes(include='object').columns\n",
    "    columns_to_convert = [col for col in columns_to_convert if col not in OBJECT_COLUMNS]\n",
    "    df[columns_to_convert] = df[columns_to_convert].astype(float)\n",
    "    return df"
   ]
  },
  {
   "cell_type": "code",
   "execution_count": 83,
   "metadata": {},
   "outputs": [],
   "source": [
    "def _add_prefix_header(df, prefix):\n",
    "    columns_name_map = {}\n",
    "    columns = df.columns\n",
    "    for col in columns:\n",
    "        if col in COMMOM_COLUMNS:\n",
    "            columns_name_map[col] = col\n",
    "        else:\n",
    "            columns_name_map[col] = f\"{prefix}_{col}\"\n",
    "    return df.rename(columns=columns_name_map)"
   ]
  },
  {
   "cell_type": "code",
   "execution_count": 84,
   "metadata": {},
   "outputs": [],
   "source": [
    "def _get_df_info(df, df_name):\n",
    "    print(f'------------------------ {df_name} ------------------------')\n",
    "    df.info()\n",
    "    print('\\n--- REGISTROS NÃO REPETIDOS:', \n",
    "            df.drop_duplicates().shape[0], '\\n')"
   ]
  },
  {
   "cell_type": "code",
   "execution_count": 85,
   "metadata": {},
   "outputs": [],
   "source": [
    "def _remove_childhood_columns(df):\n",
    "    # Remove columns with INF in the name - Childhood Education data\n",
    "    childhood_education_columns = [col_name for col_name in df if \"INF\" in col_name]\n",
    "    if childhood_education_columns:\n",
    "        print(\"Removing \", \", \".join(childhood_education_columns), \"columns\")\n",
    "        df.drop(childhood_education_columns, axis=1, inplace=True)"
   ]
  },
  {
   "cell_type": "code",
   "execution_count": 86,
   "metadata": {},
   "outputs": [
    {
     "name": "stdout",
     "output_type": "stream",
     "text": [
      "Loading ../data/interim/2021/TDI_clean_2021.csv\n",
      "Loading ../data/interim/2021/IED_clean_2021.csv\n",
      "Loading ../data/interim/2021/TX_clean_2021.csv\n",
      "Loading ../data/interim/2021/TNR_clean_2021.csv\n",
      "Loading ../data/interim/2021/ATU_clean_2021.csv\n",
      "Removing  ED_INF_CAT_0 columns\n",
      "Loading ../data/interim/2021/IRD_clean_2021.csv\n",
      "Loading ../data/interim/2021/TXT_transicao_Clean_2021.csv\n",
      "Loading ../data/interim/2021/ICG_clean_2021.csv\n",
      "Loading ../data/interim/2021/AFD_clean_2021.csv\n",
      "Removing  ED_INF_CAT_1, ED_INF_CAT_2, ED_INF_CAT_3, ED_INF_CAT_4, ED_INF_CAT_5 columns\n"
     ]
    }
   ],
   "source": [
    "# Open clean data files\n",
    "clean_data_dict = {}\n",
    "\n",
    "years = [\"2021\"] \n",
    "files = os.listdir(os.path.join(INTERIM_DATA_DIR, years[0]))\n",
    "\n",
    "REMOVE_DATA = [\"INSE_clean_2021\", \"Remuneracao_clean_2020_mock_2021\"]\n",
    "\n",
    "for file in files:\n",
    "    if file.endswith('.csv') and not (file.rstrip('.csv') in REMOVE_DATA):\n",
    "        file_path = os.path.join(INTERIM_DATA_DIR, years[0], file)\n",
    "        print(f'Loading {file_path}')\n",
    "        \n",
    "        dataset_name = file.rstrip('.csv')\n",
    "        clean_data_dict[dataset_name] = pd.read_csv(file_path, delimiter=\";\")\n",
    "        \n",
    "        # Remove columns with INF in the name - Childhood Education data\n",
    "        _remove_childhood_columns(clean_data_dict[dataset_name])\n",
    "        # Replace , to .\n",
    "        clean_data_dict[dataset_name].replace(regex=r',(\\d+)', value=r'.\\1', inplace=True)\n",
    "        # Remove \"--\" string from empty cells\n",
    "        clean_data_dict[dataset_name].replace(\"--\", np.nan, inplace=True)\n",
    "        # Cast columns to float\n",
    "        clean_data_dict[dataset_name] = _cast_columns_to_float(clean_data_dict[dataset_name])\n",
    "        # Rename columns\n",
    "        prefix = dataset_name.split('_')[0]\n",
    "        clean_data_dict[dataset_name] = _add_prefix_header(clean_data_dict[dataset_name], prefix)\n",
    "                "
   ]
  },
  {
   "cell_type": "markdown",
   "metadata": {},
   "source": [
    "## Verifica tabelas individualmente\n"
   ]
  },
  {
   "cell_type": "code",
   "execution_count": 87,
   "metadata": {},
   "outputs": [
    {
     "name": "stdout",
     "output_type": "stream",
     "text": [
      "------------------------ AFD_clean_2021 ------------------------\n",
      "<class 'pandas.core.frame.DataFrame'>\n",
      "RangeIndex: 6992 entries, 0 to 6991\n",
      "Data columns (total 23 columns):\n",
      " #   Column            Non-Null Count  Dtype  \n",
      "---  ------            --------------  -----  \n",
      " 0   CO_MUNICIPIO      6992 non-null   int64  \n",
      " 1   NO_CATEGORIA      6992 non-null   object \n",
      " 2   NO_DEPENDENCIA    6992 non-null   object \n",
      " 3   AFD_FUN_CAT_1     6372 non-null   float64\n",
      " 4   AFD_FUN_CAT_2     6372 non-null   float64\n",
      " 5   AFD_FUN_CAT_3     6372 non-null   float64\n",
      " 6   AFD_FUN_CAT_4     6372 non-null   float64\n",
      " 7   AFD_FUN_CAT_5     6372 non-null   float64\n",
      " 8   AFD_FUN_AI_CAT_1  5393 non-null   float64\n",
      " 9   AFD_FUN_AI_CAT_2  5393 non-null   float64\n",
      " 10  AFD_FUN_AI_CAT_3  5393 non-null   float64\n",
      " 11  AFD_FUN_AI_CAT_4  5393 non-null   float64\n",
      " 12  AFD_FUN_AI_CAT_5  5393 non-null   float64\n",
      " 13  AFD_FUN_AF_CAT_1  5608 non-null   float64\n",
      " 14  AFD_FUN_AF_CAT_2  5608 non-null   float64\n",
      " 15  AFD_FUN_AF_CAT_3  5608 non-null   float64\n",
      " 16  AFD_FUN_AF_CAT_4  5608 non-null   float64\n",
      " 17  AFD_FUN_AF_CAT_5  5608 non-null   float64\n",
      " 18  AFD_MED_CAT_1     4917 non-null   float64\n",
      " 19  AFD_MED_CAT_2     4917 non-null   float64\n",
      " 20  AFD_MED_CAT_3     4917 non-null   float64\n",
      " 21  AFD_MED_CAT_4     4917 non-null   float64\n",
      " 22  AFD_MED_CAT_5     4917 non-null   float64\n",
      "dtypes: float64(20), int64(1), object(2)\n",
      "memory usage: 1.2+ MB\n",
      "\n",
      "--- REGISTROS NÃO REPETIDOS: 6992 \n",
      "\n"
     ]
    }
   ],
   "source": [
    "# Adequação da Formação Docente\n",
    "DATASET_NAME = \"AFD_clean_2021\"\n",
    "# Categorias:\n",
    "# 1. Docentes com formação superior de licenciatura na mesma disciplina que lecionam,\n",
    "#    ou bacharelado na mesma disciplina com curso de complementação pedagógica concluído.\n",
    "# 2. Docentes com formação superior de bacharelado na disciplina correspondente,\n",
    "#    mas sem licenciatura ou complementação pedagógica.\n",
    "# 3. Docentes com licenciatura em área diferente daquela que leciona,\n",
    "#    ou com bacharelado nas disciplinas da base curricular comum e complementação\n",
    "#    pedagógica concluída em área diferente daquela que leciona.\n",
    "# 4. Docentes com outra formação superior não considerada nas categorias anteriores.\n",
    "# 5. Docentes que não possuem curso superior completo.\n",
    "# https://download.inep.gov.br/informacoes_estatisticas/indicadores_educacionais/2014/docente_formacao_legal/nota_tecnica_indicador_docente_formacao_legal.pdf\n",
    "\n",
    "clean_data_dict[DATASET_NAME].drop(DROP_COLUMNS, axis=1, inplace=True)\n",
    "\n",
    "_get_df_info(clean_data_dict[DATASET_NAME], DATASET_NAME)\n",
    "# show(clean_data_dict[DATASET_NAME])\n"
   ]
  },
  {
   "cell_type": "code",
   "execution_count": 88,
   "metadata": {},
   "outputs": [
    {
     "name": "stdout",
     "output_type": "stream",
     "text": [
      "------------------------ ATU_clean_2021 ------------------------\n",
      "<class 'pandas.core.frame.DataFrame'>\n",
      "RangeIndex: 6941 entries, 0 to 6940\n",
      "Data columns (total 5 columns):\n",
      " #   Column          Non-Null Count  Dtype  \n",
      "---  ------          --------------  -----  \n",
      " 0   CO_MUNICIPIO    6941 non-null   int64  \n",
      " 1   NO_CATEGORIA    6941 non-null   object \n",
      " 2   NO_DEPENDENCIA  6941 non-null   object \n",
      " 3   ATU_FUN_CAT_0   6307 non-null   float64\n",
      " 4   ATU_MED_CAT_0   4919 non-null   float64\n",
      "dtypes: float64(2), int64(1), object(2)\n",
      "memory usage: 271.3+ KB\n",
      "\n",
      "--- REGISTROS NÃO REPETIDOS: 6941 \n",
      "\n"
     ]
    }
   ],
   "source": [
    "# Média de Alunos por Turma\n",
    "DATASET_NAME = \"ATU_clean_2021\"\n",
    "clean_data_dict[DATASET_NAME].drop(DROP_COLUMNS, axis=1, inplace=True)\n",
    "\n",
    "_get_df_info(clean_data_dict[DATASET_NAME], DATASET_NAME)\n",
    "# show(clean_data_dict[DATASET_NAME])"
   ]
  },
  {
   "cell_type": "code",
   "execution_count": 89,
   "metadata": {},
   "outputs": [
    {
     "name": "stdout",
     "output_type": "stream",
     "text": [
      "------------------------ ICG_clean_2021 ------------------------\n",
      "<class 'pandas.core.frame.DataFrame'>\n",
      "RangeIndex: 7009 entries, 0 to 7008\n",
      "Data columns (total 9 columns):\n",
      " #   Column             Non-Null Count  Dtype  \n",
      "---  ------             --------------  -----  \n",
      " 0   CO_MUNICIPIO       7009 non-null   int64  \n",
      " 1   NO_CATEGORIA       7009 non-null   object \n",
      " 2   NO_DEPENDENCIA     7009 non-null   object \n",
      " 3   ICG_EDU_BAS_CAT_1  7009 non-null   float64\n",
      " 4   ICG_EDU_BAS_CAT_2  7009 non-null   float64\n",
      " 5   ICG_EDU_BAS_CAT_3  7009 non-null   float64\n",
      " 6   ICG_EDU_BAS_CAT_4  7009 non-null   float64\n",
      " 7   ICG_EDU_BAS_CAT_5  7009 non-null   float64\n",
      " 8   ICG_EDU_BAS_CAT_6  7009 non-null   float64\n",
      "dtypes: float64(6), int64(1), object(2)\n",
      "memory usage: 492.9+ KB\n",
      "\n",
      "--- REGISTROS NÃO REPETIDOS: 7009 \n",
      "\n"
     ]
    }
   ],
   "source": [
    "# Complexidade de Gestão da Escola\n",
    "DATASET_NAME = \"ICG_clean_2021\"\n",
    "# Descrição dos níveis de complexidade de gestão:\n",
    "# Nível 1: Porte inferior a 50 matrículas, operando em único turno e etapa e apresentando a\n",
    "# Educação Infantil ou Anos Iniciais como etapa mais elevada*.\n",
    "# Nível 2: Porte entre 50 e 300 matrículas, operando em 2 turnos, com oferta de até 2 etapas e\n",
    "# apresentando a Educação Infantil ou Anos Iniciais como etapa mais elevada*.\n",
    "# Nível 3: Porte entre 50 e 500 matrículas, operando em 2 turnos, com 2 ou 3 etapas e\n",
    "# apresentando os Anos Finais como etapa mais elevada*.\n",
    "# Nível 4: Porte entre 150 e 1000 matrículas, operando em 2 ou 3 turnos, com 2 ou 3 etapas,\n",
    "# apresentando Ensino Médio/profissional ou a EJA como etapa mais elevada*.\n",
    "# Nível 5: Porte entre 150 e 1000 matrículas, operando em 3 turnos, com 2 ou 3 etapas,\n",
    "# apresentando a EJA como etapa mais elevada*.\n",
    "# Nível 6: Porte superior à 500 matrículas, operando em 3 turnos, com 4 ou mais etapas,\n",
    "# apresentando a EJA como etapa mais elevada*.\n",
    "# https://download.inep.gov.br/informacoes_estatisticas/indicadores_educacionais/2014/escola_complexidade_gestao/nota_tecnica_indicador_escola_complexidade_gestao.pdf\n",
    "\n",
    "clean_data_dict[DATASET_NAME].drop(DROP_COLUMNS, axis=1, inplace=True)\n",
    "\n",
    "_get_df_info(clean_data_dict[DATASET_NAME], DATASET_NAME)\n",
    "# show(clean_data_dict[DATASET_NAME])"
   ]
  },
  {
   "cell_type": "code",
   "execution_count": 90,
   "metadata": {},
   "outputs": [
    {
     "name": "stdout",
     "output_type": "stream",
     "text": [
      "------------------------ IED_clean_2021 ------------------------\n",
      "<class 'pandas.core.frame.DataFrame'>\n",
      "RangeIndex: 6775 entries, 0 to 6774\n",
      "Data columns (total 27 columns):\n",
      " #   Column            Non-Null Count  Dtype  \n",
      "---  ------            --------------  -----  \n",
      " 0   CO_MUNICIPIO      6775 non-null   int64  \n",
      " 1   NO_CATEGORIA      6775 non-null   object \n",
      " 2   NO_DEPENDENCIA    6775 non-null   object \n",
      " 3   IED_FUN_CAT_1     6376 non-null   float64\n",
      " 4   IED_FUN_CAT_2     6376 non-null   float64\n",
      " 5   IED_FUN_CAT_3     6376 non-null   float64\n",
      " 6   IED_FUN_CAT_4     6376 non-null   float64\n",
      " 7   IED_FUN_CAT_5     6376 non-null   float64\n",
      " 8   IED_FUN_CAT_6     6376 non-null   float64\n",
      " 9   IED_FUN_AI_CAT_1  5395 non-null   float64\n",
      " 10  IED_FUN_AI_CAT_2  5395 non-null   float64\n",
      " 11  IED_FUN_AI_CAT_3  5395 non-null   float64\n",
      " 12  IED_FUN_AI_CAT_4  5395 non-null   float64\n",
      " 13  IED_FUN_AI_CAT_5  5395 non-null   float64\n",
      " 14  IED_FUN_AI_CAT_6  5395 non-null   float64\n",
      " 15  IED_FUN_AF_CAT_1  5615 non-null   float64\n",
      " 16  IED_FUN_AF_CAT_2  5615 non-null   float64\n",
      " 17  IED_FUN_AF_CAT_3  5615 non-null   float64\n",
      " 18  IED_FUN_AF_CAT_4  5615 non-null   float64\n",
      " 19  IED_FUN_AF_CAT_5  5615 non-null   float64\n",
      " 20  IED_FUN_AF_CAT_6  5615 non-null   float64\n",
      " 21  IED_MED_CAT_1     4919 non-null   float64\n",
      " 22  IED_MED_CAT_2     4919 non-null   float64\n",
      " 23  IED_MED_CAT_3     4919 non-null   float64\n",
      " 24  IED_MED_CAT_4     4919 non-null   float64\n",
      " 25  IED_MED_CAT_5     4919 non-null   float64\n",
      " 26  IED_MED_CAT_6     4919 non-null   float64\n",
      "dtypes: float64(24), int64(1), object(2)\n",
      "memory usage: 1.4+ MB\n",
      "\n",
      "--- REGISTROS NÃO REPETIDOS: 6775 \n",
      "\n"
     ]
    }
   ],
   "source": [
    "# Esforço Docente\n",
    "DATASET_NAME = \"IED_clean_2021\"\n",
    "# Descrição dos níveis de esforço docente\n",
    "# Nível 1: Docente que tem até 25 alunos e atua em um único turno, escola e etapa.\n",
    "# Nível 2: Docente que tem entre 25 e 150 alunos e atua em um único turno, escola e etapa.\n",
    "# Nível 3: Docente que tem entre 25 e 300 alunos e atua em um ou dois turnos em uma única escola e etapa.\n",
    "# Nível 4: Docente que tem entre 50 e 400 alunos e atua em dois turnos, em uma ou duas escolas e em duas etapas.\n",
    "# Nível 5: Docente que tem mais de 300 alunos e atua nos três turnos, em duas ou três escolas e em duas etapas ou três etapas.\n",
    "# Nível 6: Docente que tem mais de 400 alunos e atua nos três turnos, em duas ou três escolas e em duas etapas ou três etapas.\n",
    "#https://download.inep.gov.br/informacoes_estatisticas/indicadores_educacionais/2014/docente_esforco/nota_tecnica_indicador_docente_esforco.pdf\n",
    "\n",
    "clean_data_dict[DATASET_NAME].drop(DROP_COLUMNS, axis=1, inplace=True)\n",
    "\n",
    "_get_df_info(clean_data_dict[DATASET_NAME], DATASET_NAME)\n",
    "# show(clean_data_dict[DATASET_NAME])"
   ]
  },
  {
   "cell_type": "code",
   "execution_count": 91,
   "metadata": {},
   "outputs": [],
   "source": [
    "# #TODO: O dado é importante mas vamos realmente usar? So tem 2011-2013, 2015, 2019, 2021\n",
    " \n",
    "# # Nível Socioeconômico\n",
    "# DATASET_NAME = \"INSE_clean_2021\"\n",
    "# #https://download.inep.gov.br/areas_de_atuacao/Indicadores_de_nivel_Nota_tenica_2021.pdf\n",
    "\n",
    "# drop_columns_inse = [*DROP_COLUMNS, \"CO_UF\", \"NO_UF\"]\n",
    "# drop_columns_inse.remove(\"NO_REGIAO\")\n",
    "\n",
    "# clean_data_dict[DATASET_NAME].drop(drop_columns_inse, axis=1, inplace=True)\n",
    "\n",
    "# _get_df_info(clean_data_dict[DATASET_NAME], DATASET_NAME)\n",
    "# # show(clean_data_dict[DATASET_NAME])"
   ]
  },
  {
   "cell_type": "code",
   "execution_count": 92,
   "metadata": {},
   "outputs": [
    {
     "name": "stdout",
     "output_type": "stream",
     "text": [
      "------------------------ IRD_clean_2021 ------------------------\n",
      "<class 'pandas.core.frame.DataFrame'>\n",
      "RangeIndex: 6962 entries, 0 to 6961\n",
      "Data columns (total 7 columns):\n",
      " #   Column             Non-Null Count  Dtype  \n",
      "---  ------             --------------  -----  \n",
      " 0   CO_MUNICIPIO       6962 non-null   int64  \n",
      " 1   NO_CATEGORIA       6962 non-null   object \n",
      " 2   NO_DEPENDENCIA     6962 non-null   object \n",
      " 3   IRD_EDU_BAS_CAT_1  6962 non-null   float64\n",
      " 4   IRD_EDU_BAS_CAT_2  6962 non-null   float64\n",
      " 5   IRD_EDU_BAS_CAT_3  6962 non-null   float64\n",
      " 6   IRD_EDU_BAS_CAT_4  6962 non-null   float64\n",
      "dtypes: float64(4), int64(1), object(2)\n",
      "memory usage: 380.9+ KB\n",
      "\n",
      "--- REGISTROS NÃO REPETIDOS: 6962 \n",
      "\n"
     ]
    }
   ],
   "source": [
    "# Regularidade do Corpo Docente\n",
    "DATASET_NAME = \"IRD_clean_2021\"\n",
    "\n",
    "clean_data_dict[DATASET_NAME].drop(DROP_COLUMNS, axis=1, inplace=True)\n",
    "\n",
    "_get_df_info(clean_data_dict[DATASET_NAME], DATASET_NAME)\n",
    "# show(clean_data_dict[DATASET_NAME])"
   ]
  },
  {
   "cell_type": "code",
   "execution_count": 93,
   "metadata": {},
   "outputs": [],
   "source": [
    "# #TODO: vamos mesmo usar? Não temos 2021 e provavelmente não teremos até o final do trabalho\n",
    "# Talvez buscar um dado parecido em outra fonte\n",
    "\n",
    "# # Remuneração Média dos Docentes\n",
    "# DATASET_NAME = \"Remuneracao_clean_2020_mock_2021\"\n",
    "\n",
    "# clean_data_dict[DATASET_NAME].drop(DROP_COLUMNS, axis=1, inplace=True)\n",
    "# print(clean_data_dict[DATASET_NAME].dtypes)\n",
    "\n",
    "# _get_df_info(clean_data_dict[DATASET_NAME], DATASET_NAME)\n",
    "# show(clean_data_dict[DATASET_NAME])"
   ]
  },
  {
   "cell_type": "code",
   "execution_count": 94,
   "metadata": {},
   "outputs": [
    {
     "name": "stdout",
     "output_type": "stream",
     "text": [
      "------------------------ TDI_clean_2021 ------------------------\n",
      "<class 'pandas.core.frame.DataFrame'>\n",
      "RangeIndex: 6706 entries, 0 to 6705\n",
      "Data columns (total 19 columns):\n",
      " #   Column            Non-Null Count  Dtype  \n",
      "---  ------            --------------  -----  \n",
      " 0   CO_MUNICIPIO      6706 non-null   int64  \n",
      " 1   NO_CATEGORIA      6706 non-null   object \n",
      " 2   NO_DEPENDENCIA    6706 non-null   object \n",
      " 3   TDI_FUN_CAT_0     6307 non-null   float64\n",
      " 4   TDI_FUN_AI_CAT_0  5479 non-null   float64\n",
      " 5   TDI_FUN_AF_CAT_0  5243 non-null   float64\n",
      " 6   TDI_FUN_01_CAT_0  5319 non-null   float64\n",
      " 7   TDI_FUN_02_CAT_0  5376 non-null   float64\n",
      " 8   TDI_FUN_03_CAT_0  5388 non-null   float64\n",
      " 9   TDI_FUN_04_CAT_0  5377 non-null   float64\n",
      " 10  TDI_FUN_05_CAT_0  5384 non-null   float64\n",
      " 11  TDI_FUN_06_CAT_0  5239 non-null   float64\n",
      " 12  TDI_FUN_07_CAT_0  5234 non-null   float64\n",
      " 13  TDI_FUN_08_CAT_0  5220 non-null   float64\n",
      " 14  TDI_FUN_09_CAT_0  5223 non-null   float64\n",
      " 15  TDI_MED_CAT_0     4911 non-null   float64\n",
      " 16  TDI_MED_01_CAT_0  4899 non-null   float64\n",
      " 17  TDI_MED_02_CAT_0  4867 non-null   float64\n",
      " 18  TDI_MED_03_CAT_0  4863 non-null   float64\n",
      "dtypes: float64(16), int64(1), object(2)\n",
      "memory usage: 995.5+ KB\n",
      "\n",
      "--- REGISTROS NÃO REPETIDOS: 6706 \n",
      "\n"
     ]
    }
   ],
   "source": [
    "# Taxas de Distorção Idade-série\n",
    "DATASET_NAME = \"TDI_clean_2021\"\n",
    "\n",
    "clean_data_dict[DATASET_NAME].drop(DROP_COLUMNS, axis=1, inplace=True)\n",
    "\n",
    "# TDI_MED_04_CAT_0 is the `4ª Série` column in the in the `Taxas de Distorção Idade-série` table\n",
    "# This column has 97.2% of missing values, because few schools have `4ª Série`. So we drop to remove it.\n",
    "clean_data_dict[DATASET_NAME].drop([\"TDI_MED_04_CAT_0\"], axis=1, inplace=True)\n",
    "\n",
    "_get_df_info(clean_data_dict[DATASET_NAME], DATASET_NAME)\n",
    "# show(clean_data_dict[DATASET_NAME])"
   ]
  },
  {
   "cell_type": "code",
   "execution_count": 95,
   "metadata": {},
   "outputs": [
    {
     "name": "stdout",
     "output_type": "stream",
     "text": [
      "------------------------ TNR_clean_2021 ------------------------\n",
      "<class 'pandas.core.frame.DataFrame'>\n",
      "RangeIndex: 6708 entries, 0 to 6707\n",
      "Data columns (total 5 columns):\n",
      " #   Column          Non-Null Count  Dtype  \n",
      "---  ------          --------------  -----  \n",
      " 0   CO_MUNICIPIO    6708 non-null   int64  \n",
      " 1   NO_CATEGORIA    6708 non-null   object \n",
      " 2   NO_DEPENDENCIA  6708 non-null   object \n",
      " 3   TNR_4_CAT_FUN   6309 non-null   float64\n",
      " 4   TNR_4_CAT_MED   4919 non-null   float64\n",
      "dtypes: float64(2), int64(1), object(2)\n",
      "memory usage: 262.2+ KB\n",
      "\n",
      "--- REGISTROS NÃO REPETIDOS: 6708 \n",
      "\n"
     ]
    }
   ],
   "source": [
    "# Taxas de Não-resposta\n",
    "DATASET_NAME = \"TNR_clean_2021\"\n",
    "\n",
    "clean_data_dict[DATASET_NAME].drop(DROP_COLUMNS, axis=1, inplace=True)\n",
    "\n",
    "_get_df_info(clean_data_dict[DATASET_NAME], DATASET_NAME)\n",
    "# show(clean_data_dict[DATASET_NAME])"
   ]
  },
  {
   "cell_type": "code",
   "execution_count": 96,
   "metadata": {},
   "outputs": [
    {
     "name": "stdout",
     "output_type": "stream",
     "text": [
      "------------------------ TX_clean_2021 ------------------------\n",
      "<class 'pandas.core.frame.DataFrame'>\n",
      "RangeIndex: 6708 entries, 0 to 6707\n",
      "Data columns (total 9 columns):\n",
      " #   Column          Non-Null Count  Dtype  \n",
      "---  ------          --------------  -----  \n",
      " 0   CO_MUNICIPIO    6708 non-null   int64  \n",
      " 1   NO_CATEGORIA    6708 non-null   object \n",
      " 2   NO_DEPENDENCIA  6708 non-null   object \n",
      " 3   TX_1_CAT_FUN    6305 non-null   float64\n",
      " 4   TX_1_CAT_MED    4913 non-null   float64\n",
      " 5   TX_2_CAT_FUN    6305 non-null   float64\n",
      " 6   TX_2_CAT_MED    4913 non-null   float64\n",
      " 7   TX_3_CAT_FUN    6305 non-null   float64\n",
      " 8   TX_3_CAT_MED    4913 non-null   float64\n",
      "dtypes: float64(6), int64(1), object(2)\n",
      "memory usage: 471.8+ KB\n",
      "\n",
      "--- REGISTROS NÃO REPETIDOS: 6708 \n",
      "\n"
     ]
    }
   ],
   "source": [
    "# Taxas de Rendimento Escolar\n",
    "DATASET_NAME = \"TX_clean_2021\"\n",
    "\n",
    "clean_data_dict[DATASET_NAME].drop(DROP_COLUMNS, axis=1, inplace=True)\n",
    "\n",
    "_get_df_info(clean_data_dict[DATASET_NAME], DATASET_NAME)\n",
    "# show(clean_data_dict[DATASET_NAME])"
   ]
  },
  {
   "cell_type": "code",
   "execution_count": 97,
   "metadata": {},
   "outputs": [
    {
     "name": "stdout",
     "output_type": "stream",
     "text": [
      "------------------------ TXT_transicao_Clean_2021 ------------------------\n"
     ]
    },
    {
     "name": "stdout",
     "output_type": "stream",
     "text": [
      "<class 'pandas.core.frame.DataFrame'>\n",
      "RangeIndex: 2513 entries, 0 to 2512\n",
      "Data columns (total 9 columns):\n",
      " #   Column             Non-Null Count  Dtype  \n",
      "---  ------             --------------  -----  \n",
      " 0   CO_MUNICIPIO       2513 non-null   int64  \n",
      " 1   NO_CATEGORIA       2513 non-null   object \n",
      " 2   NO_DEPENDENCIA     2513 non-null   object \n",
      " 3   TXT_1_CAT1_CATFUN  2497 non-null   float64\n",
      " 4   TXT_1_CAT1_CATMED  2338 non-null   float64\n",
      " 5   TXT_1_CAT2_CATFUN  2497 non-null   float64\n",
      " 6   TXT_1_CAT2_CATMED  2338 non-null   float64\n",
      " 7   TXT_1_CAT3_CATFUN  2497 non-null   float64\n",
      " 8   TXT_1_CAT3_CATMED  2338 non-null   float64\n",
      "dtypes: float64(6), int64(1), object(2)\n",
      "memory usage: 176.8+ KB\n",
      "\n",
      "--- REGISTROS NÃO REPETIDOS: 2513 \n",
      "\n"
     ]
    }
   ],
   "source": [
    "# Taxas de Transição\n",
    "DATASET_NAME = \"TXT_transicao_Clean_2021\"\n",
    "\n",
    "drop_columns_tx = [*DROP_COLUMNS, \"TXT_NO_UF\"]\n",
    "drop_columns_tx.remove(\"SG_UF\")\n",
    "clean_data_dict[DATASET_NAME].drop(drop_columns_tx, axis=1, inplace=True)\n",
    "\n",
    "_get_df_info(clean_data_dict[DATASET_NAME], DATASET_NAME)\n",
    "# show(clean_data_dict[DATASET_NAME])"
   ]
  },
  {
   "cell_type": "markdown",
   "metadata": {},
   "source": [
    "# Dados IBGE\n"
   ]
  },
  {
   "cell_type": "code",
   "execution_count": 98,
   "metadata": {},
   "outputs": [],
   "source": [
    "import requests\n",
    "from functools import reduce"
   ]
  },
  {
   "cell_type": "code",
   "execution_count": 99,
   "metadata": {},
   "outputs": [],
   "source": [
    "def _get_county_pib_df(json_data):\n",
    "    pib_municipios_ibge_json = json_data[0][\"resultados\"][0][\"series\"]\n",
    "    pib_municipios_ibge_df = pd.json_normalize(pib_municipios_ibge_json)\n",
    "    pib_municipios_ibge_df = pib_municipios_ibge_df.drop(['localidade.nivel.id', 'localidade.nivel.nome', \"localidade.nome\"], axis=1)\n",
    "    return pib_municipios_ibge_df"
   ]
  },
  {
   "cell_type": "code",
   "execution_count": 100,
   "metadata": {},
   "outputs": [
    {
     "name": "stdout",
     "output_type": "stream",
     "text": [
      "Getting data for year 2021\n"
     ]
    },
    {
     "name": "stdout",
     "output_type": "stream",
     "text": [
      "Building IBGE 2021 dataframe...\n",
      "Merging IBGE dataframes...\n",
      "Finished building the table with county PIB\n"
     ]
    }
   ],
   "source": [
    "# Build the table with county PIB\n",
    "\n",
    "# years = list(range(2013, 2022))\n",
    "years = [2021]\n",
    "counties_pib_dfs = []\n",
    "\n",
    "for year in years:\n",
    "    print(f\"Getting data for year {year}\")\n",
    "    county_pib_url = f\"https://servicodados.ibge.gov.br/api/v3/agregados/5938/periodos/{year}/variaveis/37?localidades=N6[all]\"\n",
    "    response = requests.get(county_pib_url)\n",
    "\n",
    "    if response.status_code == 200:\n",
    "        data = response.json()\n",
    "        print(f\"Building IBGE {year} dataframe...\")\n",
    "        counties_pib_dfs.append(_get_county_pib_df(data))\n",
    "    else:\n",
    "        print(\"Request failed with status code:\", response.status_code)\n",
    "\n",
    "print(\"Merging IBGE dataframes...\")\n",
    "complete_counties_pib = reduce(lambda df1,df2: pd.merge(df1,df2,on='localidade.id', how='outer'), counties_pib_dfs)\n",
    "\n",
    "# Rename Columns\n",
    "new_column_names = {'serie.{}'.format(year): 'pib_{}'.format(year) for year in years}\n",
    "new_column_names[\"localidade.id\"] = PRIMARY_KEY\n",
    "complete_counties_pib = complete_counties_pib.rename(columns=new_column_names)\n",
    "\n",
    "# Cast columns to int\n",
    "complete_counties_pib = complete_counties_pib.astype(int)\n",
    "\n",
    "print(\"Finished building the table with county PIB\")"
   ]
  },
  {
   "cell_type": "markdown",
   "metadata": {},
   "source": [
    "# Merge\n"
   ]
  },
  {
   "cell_type": "code",
   "execution_count": 101,
   "metadata": {},
   "outputs": [
    {
     "name": "stdout",
     "output_type": "stream",
     "text": [
      "Número de linhas com EVASAO_FUN e EVASAO_MED como NaN: 0\n"
     ]
    }
   ],
   "source": [
    "TARGET_DATASET = \"TXT_transicao_Clean_2021\"\n",
    "total_colunas = clean_data_dict[TARGET_DATASET].shape[1]\n",
    "# Renomeia colunas para facilitar manipulação\n",
    "clean_data_dict[TARGET_DATASET].rename(columns={\n",
    "    'TXT_1_CAT3_CATFUN': 'EVASAO_FUN', \n",
    "    'TXT_1_CAT3_CATMED': 'EVASAO_MED'\n",
    "    }, inplace=True)\n",
    "\n",
    "# Todas as linhas possui informação de evasão em pelo menos umas colunas EVASAO_FUN ou EVASAO_MED\n",
    "print(\n",
    "    \"Número de linhas com EVASAO_FUN e EVASAO_MED como NaN:\",\n",
    "    clean_data_dict[TARGET_DATASET].query(\"@pd.isna(EVASAO_FUN) & @pd.isna(EVASAO_MED)\").shape[0]\n",
    ")"
   ]
  },
  {
   "cell_type": "code",
   "execution_count": 102,
   "metadata": {},
   "outputs": [
    {
     "name": "stdout",
     "output_type": "stream",
     "text": [
      "Merging TDI_clean_2021...\n",
      ">>>TDI_clean_2021 add 16 new features\n",
      "Merging IED_clean_2021...\n",
      ">>>IED_clean_2021 add 24 new features\n",
      "Merging TX_clean_2021...\n",
      ">>>TX_clean_2021 add 6 new features\n",
      "Merging TNR_clean_2021...\n",
      ">>>TNR_clean_2021 add 2 new features\n",
      "Merging ATU_clean_2021...\n",
      ">>>ATU_clean_2021 add 2 new features\n",
      "Merging IRD_clean_2021...\n",
      ">>>IRD_clean_2021 add 4 new features\n",
      "Merging ICG_clean_2021...\n",
      ">>>ICG_clean_2021 add 6 new features\n",
      "Merging AFD_clean_2021...\n",
      ">>>AFD_clean_2021 add 20 new features\n",
      "Merging IBGE_data...\n",
      ">>>IBGE_data add 1 new features\n",
      "Total de colunas: 90\n"
     ]
    }
   ],
   "source": [
    "merged_data = clean_data_dict[TARGET_DATASET] # use TXT_transicao_Clean_2021 as base\n",
    "\n",
    "for key, data in clean_data_dict.items():\n",
    "    if key != TARGET_DATASET:\n",
    "        print(f\"Merging {key}...\")\n",
    "        total_colunas += data.shape[1] - len(MERGE_COLUMNS)\n",
    "        print(f\">>>{key} add {data.shape[1] - len(MERGE_COLUMNS)} new features\")\n",
    "        merged_data = pd.merge(merged_data, data, on=MERGE_COLUMNS, how='left')\n",
    "\n",
    "# Add IBGE data\n",
    "print(f\"Merging IBGE_data...\")\n",
    "total_colunas+=1\n",
    "print(f\">>>IBGE_data add 1 new features\")\n",
    "merged_data = pd.merge(merged_data, complete_counties_pib, on=PRIMARY_KEY, how='left')\n",
    "\n",
    "print(f\"Total de colunas: {total_colunas}\")"
   ]
  },
  {
   "cell_type": "code",
   "execution_count": null,
   "metadata": {},
   "outputs": [],
   "source": [
    "merged_data.info()\n",
    "# show(merged_data)"
   ]
  },
  {
   "cell_type": "code",
   "execution_count": 104,
   "metadata": {},
   "outputs": [],
   "source": [
    "# Save data\n",
    "merged_data.to_csv(F'{PROCESSED_DATA_DIR}/complete_data.csv', sep=';', index=False)"
   ]
  },
  {
   "cell_type": "code",
   "execution_count": 105,
   "metadata": {},
   "outputs": [],
   "source": [
    "# Save sliced data: NO_CATEGORIA==Total and NO_DEPENDENCIA==Total\n",
    "total_total_data = merged_data[\n",
    "    (merged_data['NO_CATEGORIA'] == 'Total') & (merged_data['NO_DEPENDENCIA'] == 'Total')\n",
    "].copy()\n",
    "total_total_data.drop(['NO_CATEGORIA', 'NO_DEPENDENCIA'], axis=1, inplace=True)\n",
    "\n",
    "total_total_data.to_csv(F'{PROCESSED_DATA_DIR}/total_total_data.csv', sep=';', index=False)"
   ]
  },
  {
   "cell_type": "code",
   "execution_count": 108,
   "metadata": {},
   "outputs": [],
   "source": [
    "# Save sliced data: Onle data without FUN columns\n",
    "total_total_data_med = total_total_data.filter(regex='^(?!.*FUN)')\n",
    "total_total_data_med.to_csv(F'{PROCESSED_DATA_DIR}/total_total_data_med.csv', sep=';', index=False)"
   ]
  },
  {
   "cell_type": "code",
   "execution_count": 109,
   "metadata": {},
   "outputs": [
    {
     "name": "stdout",
     "output_type": "stream",
     "text": [
      "<class 'pandas.core.frame.DataFrame'>\n",
      "Index: 645 entries, 0 to 2509\n",
      "Data columns (total 65 columns):\n",
      " #   Column             Non-Null Count  Dtype  \n",
      "---  ------             --------------  -----  \n",
      " 0   CO_MUNICIPIO       645 non-null    int64  \n",
      " 1   TXT_1_CAT1_CATFUN  645 non-null    float64\n",
      " 2   TXT_1_CAT2_CATFUN  645 non-null    float64\n",
      " 3   EVASAO_FUN         645 non-null    float64\n",
      " 4   TDI_FUN_CAT_0      645 non-null    float64\n",
      " 5   TDI_FUN_AI_CAT_0   645 non-null    float64\n",
      " 6   TDI_FUN_AF_CAT_0   645 non-null    float64\n",
      " 7   TDI_FUN_01_CAT_0   645 non-null    float64\n",
      " 8   TDI_FUN_02_CAT_0   645 non-null    float64\n",
      " 9   TDI_FUN_03_CAT_0   645 non-null    float64\n",
      " 10  TDI_FUN_04_CAT_0   645 non-null    float64\n",
      " 11  TDI_FUN_05_CAT_0   645 non-null    float64\n",
      " 12  TDI_FUN_06_CAT_0   645 non-null    float64\n",
      " 13  TDI_FUN_07_CAT_0   645 non-null    float64\n",
      " 14  TDI_FUN_08_CAT_0   645 non-null    float64\n",
      " 15  TDI_FUN_09_CAT_0   645 non-null    float64\n",
      " 16  IED_FUN_CAT_1      645 non-null    float64\n",
      " 17  IED_FUN_CAT_2      645 non-null    float64\n",
      " 18  IED_FUN_CAT_3      645 non-null    float64\n",
      " 19  IED_FUN_CAT_4      645 non-null    float64\n",
      " 20  IED_FUN_CAT_5      645 non-null    float64\n",
      " 21  IED_FUN_CAT_6      645 non-null    float64\n",
      " 22  IED_FUN_AI_CAT_1   645 non-null    float64\n",
      " 23  IED_FUN_AI_CAT_2   645 non-null    float64\n",
      " 24  IED_FUN_AI_CAT_3   645 non-null    float64\n",
      " 25  IED_FUN_AI_CAT_4   645 non-null    float64\n",
      " 26  IED_FUN_AI_CAT_5   645 non-null    float64\n",
      " 27  IED_FUN_AI_CAT_6   645 non-null    float64\n",
      " 28  IED_FUN_AF_CAT_1   645 non-null    float64\n",
      " 29  IED_FUN_AF_CAT_2   645 non-null    float64\n",
      " 30  IED_FUN_AF_CAT_3   645 non-null    float64\n",
      " 31  IED_FUN_AF_CAT_4   645 non-null    float64\n",
      " 32  IED_FUN_AF_CAT_5   645 non-null    float64\n",
      " 33  IED_FUN_AF_CAT_6   645 non-null    float64\n",
      " 34  TX_1_CAT_FUN       645 non-null    float64\n",
      " 35  TX_2_CAT_FUN       645 non-null    float64\n",
      " 36  TX_3_CAT_FUN       645 non-null    float64\n",
      " 37  TNR_4_CAT_FUN      645 non-null    float64\n",
      " 38  ATU_FUN_CAT_0      645 non-null    float64\n",
      " 39  IRD_EDU_BAS_CAT_1  645 non-null    float64\n",
      " 40  IRD_EDU_BAS_CAT_2  645 non-null    float64\n",
      " 41  IRD_EDU_BAS_CAT_3  645 non-null    float64\n",
      " 42  IRD_EDU_BAS_CAT_4  645 non-null    float64\n",
      " 43  ICG_EDU_BAS_CAT_1  645 non-null    float64\n",
      " 44  ICG_EDU_BAS_CAT_2  645 non-null    float64\n",
      " 45  ICG_EDU_BAS_CAT_3  645 non-null    float64\n",
      " 46  ICG_EDU_BAS_CAT_4  645 non-null    float64\n",
      " 47  ICG_EDU_BAS_CAT_5  645 non-null    float64\n",
      " 48  ICG_EDU_BAS_CAT_6  645 non-null    float64\n",
      " 49  AFD_FUN_CAT_1      645 non-null    float64\n",
      " 50  AFD_FUN_CAT_2      645 non-null    float64\n",
      " 51  AFD_FUN_CAT_3      645 non-null    float64\n",
      " 52  AFD_FUN_CAT_4      645 non-null    float64\n",
      " 53  AFD_FUN_CAT_5      645 non-null    float64\n",
      " 54  AFD_FUN_AI_CAT_1   645 non-null    float64\n",
      " 55  AFD_FUN_AI_CAT_2   645 non-null    float64\n",
      " 56  AFD_FUN_AI_CAT_3   645 non-null    float64\n",
      " 57  AFD_FUN_AI_CAT_4   645 non-null    float64\n",
      " 58  AFD_FUN_AI_CAT_5   645 non-null    float64\n",
      " 59  AFD_FUN_AF_CAT_1   645 non-null    float64\n",
      " 60  AFD_FUN_AF_CAT_2   645 non-null    float64\n",
      " 61  AFD_FUN_AF_CAT_3   645 non-null    float64\n",
      " 62  AFD_FUN_AF_CAT_4   645 non-null    float64\n",
      " 63  AFD_FUN_AF_CAT_5   645 non-null    float64\n",
      " 64  pib_2021           645 non-null    int64  \n",
      "dtypes: float64(63), int64(2)\n",
      "memory usage: 332.6 KB\n"
     ]
    }
   ],
   "source": [
    "# Save sliced data: Onle data without MED columns\n",
    "total_total_data_fun = total_total_data.filter(regex='^(?!.*MED)')\n",
    "total_total_data_fun.to_csv(F'{PROCESSED_DATA_DIR}/total_total_data_fun.csv', sep=';', index=False)"
   ]
  }
 ],
 "metadata": {
  "kernelspec": {
   "display_name": "Python 3",
   "language": "python",
   "name": "python3"
  },
  "language_info": {
   "codemirror_mode": {
    "name": "ipython",
    "version": 3
   },
   "file_extension": ".py",
   "mimetype": "text/x-python",
   "name": "python",
   "nbconvert_exporter": "python",
   "pygments_lexer": "ipython3",
   "version": "3.10.9"
  }
 },
 "nbformat": 4,
 "nbformat_minor": 2
}
